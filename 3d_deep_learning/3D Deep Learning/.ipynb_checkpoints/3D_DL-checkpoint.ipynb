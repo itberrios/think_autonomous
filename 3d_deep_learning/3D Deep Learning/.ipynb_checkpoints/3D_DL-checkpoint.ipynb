{
 "cells": [
  {
   "cell_type": "markdown",
   "metadata": {},
   "source": [
    "# 3D DEEP LEARNING\n",
    "\n",
    "Welcome to the 3D Deep Learning Workshop!\n",
    "\n",
    "In this workshop, you'll learn to:\n",
    "* Process a 3D Point Cloud Dataset\n",
    "* Visualize the Dataset in 3D\n",
    "* Build a 3D Deep Learning Model\n",
    "* Test on new data\n",
    "\n",
    "The code has been adapted from Intel's version for education purpose: https://github.com/intel-isl/Open3D-PointNet\n",
    "\n",
    "[![Open In Colab](https://colab.research.google.com/assets/colab-badge.svg)](https://colab.research.google.com/github/Jeremy26/3d-deep-learning/blob/main/3D%20Deep%20Learning/Keras_PointNet.ipynb)"
   ]
  },
  {
   "cell_type": "markdown",
   "metadata": {},
   "source": [
    "## Imports\n",
    "We'll need a few things to get started:\n",
    "* Open3D: A Point Cloud Library; we'll use it for Visualization - We use version 12\n",
    "* PyTorch: A Deep Learning Library - We Use version 1.7\n",
    "* All the other usual libraries (numpy, matplotlib, random, ...)"
   ]
  },
  {
   "cell_type": "code",
   "execution_count": null,
   "metadata": {
    "collapsed": true
   },
   "outputs": [],
   "source": [
    "# Do this if you don't have Open3D\n",
    "!pip install open3d==0.12.0 # Version 12\n",
    "!pip install progressbar"
   ]
  },
  {
   "cell_type": "code",
   "execution_count": 1,
   "metadata": {},
   "outputs": [
    {
     "name": "stdout",
     "output_type": "stream",
     "text": [
      "0.12.0\n",
      "1.7.0\n"
     ]
    }
   ],
   "source": [
    "# Usual Imports\n",
    "from __future__ import print_function\n",
    "import os\n",
    "import random\n",
    "from random import randrange\n",
    "from IPython.display import clear_output\n",
    "from PIL import Image\n",
    "import os.path\n",
    "import errno\n",
    "import json\n",
    "import codecs\n",
    "import numpy as np\n",
    "import progressbar\n",
    "import sys\n",
    "import matplotlib.pyplot as plt\n",
    "\n",
    "# Open3D Imports\n",
    "import open3d as o3\n",
    "print(o3.__version__)\n",
    "from open3d import JVisualizer # Useful for Jupyter Notebook Visualization\n",
    "\n",
    "# PyTorch Imports\n",
    "import torch #Version 1.7.0 is the one used in the course\n",
    "print(torch.__version__)\n",
    "import torch.nn as nn\n",
    "import torch.nn.parallel\n",
    "import torch.optim as optim\n",
    "import torchvision.datasets as dset\n",
    "import torchvision.transforms as transforms\n",
    "import torchvision.utils as vutils\n",
    "from torch.autograd import Variable\n",
    "import torch.nn.functional as F\n",
    "if torch.cuda.is_available():\n",
    "    import torch.backends.cudnn as cudnn"
   ]
  },
  {
   "cell_type": "markdown",
   "metadata": {},
   "source": [
    "# Dataset\n",
    "\n",
    "We are going to work with the ShapeNet Dataset.<p>\n",
    "It's coming from Standford and will allow us to do both Classification and Segmentation.<p>\n",
    "Here's an X-Wing from the DataSet:\n",
    "![XWING](https://www.shapenet.org/shapenet/screenshots/models/3dw/d/d/9/e/c/e07d4bc696c2bafe808edd44356/dd9ece07d4bc696c2bafe808edd44356/dd9ece07d4bc696c2bafe808edd44356-5.png)"
   ]
  },
  {
   "cell_type": "markdown",
   "metadata": {},
   "source": [
    "## Download the Dataset"
   ]
  },
  {
   "cell_type": "code",
   "execution_count": null,
   "metadata": {
    "collapsed": true,
    "scrolled": false
   },
   "outputs": [],
   "source": [
    "#Run this only if you don't already have the Dataset\n",
    "!wget -nv https://shapenet.cs.stanford.edu/ericyi/shapenetcore_partanno_segmentation_benchmark_v0.zip --no-check-certificate\n",
    "!unzip shapenetcore_partanno_segmentation_benchmark_v0.zip\n",
    "!rm shapenetcore_partanno_segmentation_benchmark_v0.zip"
   ]
  },
  {
   "cell_type": "code",
   "execution_count": 2,
   "metadata": {
    "collapsed": true
   },
   "outputs": [],
   "source": [
    "# Avoid an SSL Error\n",
    "import ssl\n",
    "ssl._create_default_https_context = ssl._create_unverified_context"
   ]
  },
  {
   "cell_type": "markdown",
   "metadata": {},
   "source": [
    "## Preprocess the Dataset"
   ]
  },
  {
   "cell_type": "code",
   "execution_count": 3,
   "metadata": {
    "collapsed": true
   },
   "outputs": [],
   "source": [
    "# General parameters\n",
    "NUM_POINTS = 10000\n",
    "DATA_FOLDER = 'shapenetcore_partanno_segmentation_benchmark_v0'"
   ]
  },
  {
   "cell_type": "code",
   "execution_count": 43,
   "metadata": {
    "collapsed": true
   },
   "outputs": [],
   "source": [
    "class PartDataset(torch.utils.data.Dataset):\n",
    "    \"\"\"\n",
    "    This preprocesses the dataset.\n",
    "    \"\"\"\n",
    "    def __init__(self, root, npoints = 2500, classification = False, class_choice = None, train = True, image=False):\n",
    "        '''\n",
    "        Assign the parameters: number of points, root folder, category file, image, classification.\n",
    "        '''\n",
    "        self.npoints = npoints\n",
    "        self.root = root\n",
    "        self.catfile = os.path.join(self.root, 'synsetoffset2category.txt')\n",
    "        self.cat = {}\n",
    "        self.image = image\n",
    "        self.classification = classification\n",
    "        '''\n",
    "        Open the Category File and Map Folders to Categories\n",
    "        '''\n",
    "        with open(self.catfile, 'r') as f:\n",
    "            for line in f:\n",
    "                ls = line.strip().split()\n",
    "                self.cat[ls[0]] = ls[1]\n",
    "        #print(self.cat)\n",
    "        \n",
    "        '''\n",
    "        Select categories from the dataset. \n",
    "        ex: Call in parameters \"class_choice=[\"Airplane\"].\n",
    "        '''\n",
    "        if not class_choice is  None:\n",
    "            self.cat = {k:v for k,v in self.cat.items() if k in class_choice}\n",
    "        \n",
    "        '''\n",
    "        For every item in a specific category, assign the point, segmentation, and image.\n",
    "        Basically, read the dataset and store the labels.\n",
    "        '''\n",
    "        self.meta = {}        \n",
    "        for item in self.cat:\n",
    "            #print('category', item)\n",
    "            self.meta[item] = []\n",
    "            dir_point = os.path.join(self.root, self.cat[item], 'points')\n",
    "            dir_seg = os.path.join(self.root, self.cat[item], 'points_label')\n",
    "            dir_seg_img = os.path.join(self.root, self.cat[item], 'seg_img')\n",
    "            #print(dir_point, dir_seg)\n",
    "            \n",
    "            fns = sorted(os.listdir(dir_point))\n",
    "            if train:\n",
    "                fns = fns[:int(len(fns) * 0.9)]\n",
    "            else:\n",
    "                fns = fns[int(len(fns) * 0.9):]\n",
    "\n",
    "            #print(os.path.basename(fns))\n",
    "            for fn in fns: # FOR EVERY POINT CLOUD FILE\n",
    "                token = (os.path.splitext(os.path.basename(fn))[0])\n",
    "                self.meta[item].append((os.path.join(dir_point, token + '.pts'), os.path.join(dir_seg, token + '.seg'), os.path.join(dir_seg_img, token+'.png')))\n",
    "\n",
    "        '''\n",
    "        Create a Variable where you have (item, points, segmentation points, segmentation image)\n",
    "        '''\n",
    "        self.datapath = []\n",
    "        for item in self.cat:\n",
    "            for fn in self.meta[item]:\n",
    "                self.datapath.append((item, fn[0], fn[1], fn[2]))\n",
    "\n",
    "        self.classes = dict(zip(sorted(self.cat), range(len(self.cat))))\n",
    "        #print(self.classes)\n",
    "        \n",
    "        self.num_seg_classes = 0\n",
    "        if not self.classification: # Take the Segmentation Labels\n",
    "            for i in range(len(self.datapath)//50):\n",
    "                l = len(np.unique(np.loadtxt(self.datapath[i][-2]).astype(np.uint8)))\n",
    "                if l > self.num_seg_classes:\n",
    "                    self.num_seg_classes = l\n",
    "        #print(self.num_seg_classes)\n",
    "\n",
    "    def __getitem__(self, index):\n",
    "        '''\n",
    "        This will be used to pick a specific element from the dataset.\n",
    "        self.datapath is the dataset.\n",
    "        Each element is under format \"class, points, segmentation labels, segmentation image\"\n",
    "        '''\n",
    "        # Get one Element\n",
    "        fn = self.datapath[index]\n",
    "        #print(fn)\n",
    "        \n",
    "        # get its Class\n",
    "        cls = self.classes[fn[0]]\n",
    "        #print(cls)\n",
    "        \n",
    "        # Read the Point Cloud\n",
    "        point_set = np.asarray(o3.io.read_point_cloud(fn[1], format='xyz').points,dtype=np.float32)\n",
    "        \n",
    "        # Read the Segmentation Data\n",
    "        seg = np.loadtxt(fn[2]).astype(np.int64)\n",
    "\n",
    "        #print(point_set.shape, seg.shape)\n",
    "        \n",
    "        # Read the Segmentation Image\n",
    "        image = Image.open(fn[3])\n",
    "\n",
    "        choice = np.random.choice(len(seg), self.npoints, replace=True)\n",
    "        \n",
    "        #resample\n",
    "        point_set = point_set[choice, :]        \n",
    "        seg = seg[choice]\n",
    "        point_set = torch.from_numpy(point_set)\n",
    "        seg = torch.from_numpy(seg)\n",
    "        cls = torch.from_numpy(np.array([cls]).astype(np.int64))\n",
    "        \n",
    "        if self.classification:\n",
    "            if self.image:\n",
    "                return point_set, cls, image\n",
    "            else:\n",
    "                return point_set, cls\n",
    "\n",
    "        else:\n",
    "            if self.image:\n",
    "                return point_set, seg, image\n",
    "            else:\n",
    "                return point_set, seg\n",
    "\n",
    "    def __len__(self):\n",
    "        return len(self.datapath)"
   ]
  },
  {
   "cell_type": "code",
   "execution_count": 11,
   "metadata": {
    "collapsed": true,
    "scrolled": true
   },
   "outputs": [],
   "source": [
    "# Problem ontology\n",
    "classes_dict = {'Airplane': 0, 'Bag': 1, 'Cap': 2, 'Car': 3, 'Chair': 4, \n",
    "                'Earphone': 5, 'Guitar': 6, 'Knife': 7, 'Lamp': 8, 'Laptop': 9,\n",
    "                'Motorbike': 10, 'Mug': 11, 'Pistol': 12, 'Rocket': 13, \n",
    "                'Skateboard': 14, 'Table': 15}"
   ]
  },
  {
   "cell_type": "markdown",
   "metadata": {},
   "source": [
    "## Visualize the Dataset with Open3D"
   ]
  },
  {
   "cell_type": "code",
   "execution_count": 12,
   "metadata": {
    "collapsed": true
   },
   "outputs": [],
   "source": [
    "# Simple point cloud coloring mapping\n",
    "def read_pointnet_colors(seg_labels):\n",
    "    map_label_to_rgb = {\n",
    "        1: [0, 255, 0],\n",
    "        2: [0, 0, 255],\n",
    "        3: [255, 0, 0],\n",
    "        4: [255, 0, 255],  # purple\n",
    "        5: [0, 255, 255],  # cyan\n",
    "        6: [255, 255, 0],  # yellow\n",
    "    }\n",
    "    colors = np.array([map_label_to_rgb[label] for label in seg_labels])\n",
    "    return colors"
   ]
  },
  {
   "cell_type": "code",
   "execution_count": 30,
   "metadata": {
    "scrolled": false
   },
   "outputs": [
    {
     "name": "stdout",
     "output_type": "stream",
     "text": [
      "Number of objects 15990\n",
      "----------\n",
      "[1633 1885 1785 ... 1232 1829 1387]\n",
      "Point Cloud Caracteristics:\n",
      "torch.Size([2500, 3]) torch.FloatTensor torch.Size([2500]) torch.LongTensor\n",
      "----------\n",
      "Point Cloud\n",
      "tensor([[-0.0429,  0.1623,  0.2098],\n",
      "        [-0.1943,  0.1623, -0.2877],\n",
      "        [-0.1264,  0.1778, -0.3474],\n",
      "        ...,\n",
      "        [-0.2724,  0.1623,  0.1700],\n",
      "        [-0.1498, -0.1558, -0.1553],\n",
      "        [-0.1311,  0.1623, -0.1200]])\n",
      "----------\n",
      "Label on Part Segmentation\n",
      "tensor([1, 1, 1,  ..., 1, 2, 1])\n",
      "----------\n",
      "[2018  807 1710 ... 1037 2528 1893]\n",
      "Label on Classification\n",
      "Table\n"
     ]
    },
    {
     "data": {
      "text/plain": [
       "<matplotlib.image.AxesImage at 0x7efb43b5f0a0>"
      ]
     },
     "execution_count": 30,
     "metadata": {},
     "output_type": "execute_result"
    },
    {
     "data": {
      "image/png": "[encoded data removed]",
      "text/plain": [
       "<Figure size 432x288 with 1 Axes>"
      ]
     },
     "metadata": {
      "needs_background": "light"
     },
     "output_type": "display_data"
    }
   ],
   "source": [
    "# Load the ShapeNet Dataset\n",
    "# Default parameters for PartDataset: npoints = 2500, classification = False, class_choice = None, train = True, image=False\n",
    "\n",
    "d = PartDataset(root = DATA_FOLDER, image=True)\n",
    "print(\"Number of objects\",len(d))\n",
    "print('----------')\n",
    "\n",
    "idx = random.randint(0,len(d))\n",
    "ps, seg, img = d[idx]\n",
    "\n",
    "print(\"Point Cloud Caracteristics:\")\n",
    "print(ps.size(), ps.type(), seg.size(),seg.type())\n",
    "print('----------')\n",
    "print(\"Point Cloud\")\n",
    "print(ps)\n",
    "print('----------')\n",
    "print(\"Label on Part Segmentation\")\n",
    "print(seg)\n",
    "print('----------')\n",
    "d = PartDataset(root = DATA_FOLDER, classification = True, image=False)\n",
    "ps2, cls= d[idx]\n",
    "print(\"Label on Classification\")\n",
    "classes_dict_list = list(classes_dict)\n",
    "print(classes_dict_list[cls.item()])\n",
    "plt.imshow(np.asarray(img))"
   ]
  },
  {
   "cell_type": "code",
   "execution_count": 31,
   "metadata": {},
   "outputs": [
    {
     "data": {
      "application/vnd.jupyter.widget-view+json": {
       "model_id": "fe6053013eb34984b7ef1783cc01e9e9",
       "version_major": 2,
       "version_minor": 0
      },
      "text/plain": [
       "JVisualizer with 1 geometries"
      ]
     },
     "metadata": {},
     "output_type": "display_data"
    }
   ],
   "source": [
    "test_vis = JVisualizer()\n",
    "test_vis.clear()\n",
    "clear_output()\n",
    "test_cloud = o3.geometry.PointCloud()\n",
    "test_cloud.points = o3.utility.Vector3dVector(ps)\n",
    "test_cloud.colors = o3.utility.Vector3dVector(read_pointnet_colors(seg.numpy()))\n",
    "\n",
    "test_vis.add_geometry(test_cloud)\n",
    "test_vis.show()"
   ]
  },
  {
   "cell_type": "markdown",
   "metadata": {},
   "source": [
    "# 3D Deep Learning Model: PointNet"
   ]
  },
  {
   "cell_type": "markdown",
   "metadata": {},
   "source": [
    "## Build the Model: PointNet\n",
    "\n",
    "**The model is PointNet.**<p>\n",
    "![PointNet](https://d3i71xaburhd42.cloudfront.net/c3b6a072288e134f5ae6afe3eebc970ffb65cb68/3-Figure2-1.png)\n",
    "\n",
    "It's coming from the paper: https://arxiv.org/pdf/1612.00593.pdf"
   ]
  },
  {
   "cell_type": "markdown",
   "metadata": {},
   "source": [
    "### Build the T-Net"
   ]
  },
  {
   "cell_type": "code",
   "execution_count": 32,
   "metadata": {
    "scrolled": true
   },
   "outputs": [
    {
     "name": "stdout",
     "output_type": "stream",
     "text": [
      "stn torch.Size([32, 3, 3])\n"
     ]
    }
   ],
   "source": [
    "class STN3d(nn.Module):\n",
    "    \"\"\"\n",
    "    T-Net Model. \n",
    "    STN stands for Spatial Transformer Network.\n",
    "    \"\"\"\n",
    "    def __init__(self, num_points = 2500):\n",
    "        super(STN3d, self).__init__()\n",
    "        self.num_points = num_points\n",
    "        self.conv1 = torch.nn.Conv1d(3, 64, 1)\n",
    "        self.conv2 = torch.nn.Conv1d(64, 128, 1)\n",
    "        self.conv3 = torch.nn.Conv1d(128, 1024, 1)\n",
    "        self.mp1 = torch.nn.MaxPool1d(num_points)\n",
    "        self.fc1 = nn.Linear(1024, 512)\n",
    "        self.fc2 = nn.Linear(512, 256)\n",
    "        self.fc3 = nn.Linear(256, 9)\n",
    "        self.relu = nn.ReLU()\n",
    "\n",
    "        self.bn1 = nn.BatchNorm1d(64)\n",
    "        self.bn2 = nn.BatchNorm1d(128)\n",
    "        self.bn3 = nn.BatchNorm1d(1024)\n",
    "        self.bn4 = nn.BatchNorm1d(512)\n",
    "        self.bn5 = nn.BatchNorm1d(256)\n",
    "\n",
    "\n",
    "    def forward(self, x):\n",
    "        batchsize = x.size()[0]\n",
    "        x = F.relu(self.bn1(self.conv1(x)))\n",
    "        x = F.relu(self.bn2(self.conv2(x)))\n",
    "        x = F.relu(self.bn3(self.conv3(x)))\n",
    "        x = self.mp1(x)\n",
    "        x = x.view(-1, 1024)\n",
    "\n",
    "        x = F.relu(self.bn4(self.fc1(x)))\n",
    "        x = F.relu(self.bn5(self.fc2(x)))\n",
    "        x = self.fc3(x)\n",
    "\n",
    "        iden = Variable(torch.from_numpy(np.array([1,0,0,0,1,0,0,0,1]).astype(np.float32))).view(1,9).repeat(batchsize,1)\n",
    "        if x.is_cuda:\n",
    "            iden = iden.cuda()\n",
    "        x = x + iden\n",
    "        x = x.view(-1, 3, 3)\n",
    "        return x\n",
    "\n",
    "sim_data = Variable(torch.rand(32,3,2500))\n",
    "trans = STN3d()\n",
    "out = trans(sim_data)\n",
    "print('stn', out.size())"
   ]
  },
  {
   "cell_type": "markdown",
   "metadata": {},
   "source": [
    "### Build the Feature T-Net + MLP"
   ]
  },
  {
   "cell_type": "code",
   "execution_count": 33,
   "metadata": {
    "collapsed": true
   },
   "outputs": [],
   "source": [
    "class PointNetfeat(nn.Module):\n",
    "    \"\"\"\n",
    "    This is the T-Net for Feature Transform.\n",
    "    There is also MLP part 64,128,1024.\n",
    "    \"\"\"\n",
    "    def __init__(self, num_points = 2500, global_feat = True):\n",
    "        super(PointNetfeat, self).__init__()\n",
    "        self.stn = STN3d(num_points = num_points)\n",
    "        self.conv1 = torch.nn.Conv1d(3, 64, 1)\n",
    "        self.conv2 = torch.nn.Conv1d(64, 128, 1)\n",
    "        self.conv3 = torch.nn.Conv1d(128, 1024, 1)\n",
    "        self.bn1 = nn.BatchNorm1d(64)\n",
    "        self.bn2 = nn.BatchNorm1d(128)\n",
    "        self.bn3 = nn.BatchNorm1d(1024)\n",
    "        self.mp1 = torch.nn.MaxPool1d(num_points)\n",
    "        self.num_points = num_points\n",
    "        self.global_feat = global_feat\n",
    "        \n",
    "    def forward(self, x):\n",
    "        batchsize = x.size()[0]\n",
    "        trans = self.stn(x)\n",
    "        x = x.transpose(2,1)\n",
    "        x = torch.bmm(x, trans)\n",
    "        x = x.transpose(2,1)\n",
    "        x = F.relu(self.bn1(self.conv1(x)))\n",
    "        pointfeat = x\n",
    "        x = F.relu(self.bn2(self.conv2(x)))\n",
    "        x = self.bn3(self.conv3(x))\n",
    "        x = self.mp1(x)\n",
    "        x = x.view(-1, 1024)\n",
    "        if self.global_feat:\n",
    "            return x, trans\n",
    "        else:\n",
    "            x = x.view(-1, 1024, 1).repeat(1, 1, self.num_points)\n",
    "            return torch.cat([x, pointfeat], 1), trans"
   ]
  },
  {
   "cell_type": "code",
   "execution_count": 34,
   "metadata": {},
   "outputs": [
    {
     "name": "stdout",
     "output_type": "stream",
     "text": [
      "global feat torch.Size([32, 1024])\n"
     ]
    }
   ],
   "source": [
    "pointfeat = PointNetfeat(global_feat=True)\n",
    "out, _ = pointfeat(sim_data)\n",
    "print('global feat', out.size())"
   ]
  },
  {
   "cell_type": "markdown",
   "metadata": {},
   "source": [
    "### Build the Classification Head"
   ]
  },
  {
   "cell_type": "code",
   "execution_count": 35,
   "metadata": {
    "collapsed": true
   },
   "outputs": [],
   "source": [
    "class PointNetCls(nn.Module):\n",
    "    \"\"\"\n",
    "    Network for Classification: 512, 256, K.\n",
    "    \"\"\"\n",
    "    def __init__(self, num_points = 2500, k = 2):\n",
    "        super(PointNetCls, self).__init__()\n",
    "        self.num_points = num_points\n",
    "        self.feat = PointNetfeat(num_points, global_feat=True)\n",
    "        self.fc1 = nn.Linear(1024, 512)\n",
    "        self.fc2 = nn.Linear(512, 256)\n",
    "        self.fc3 = nn.Linear(256, k)\n",
    "        self.bn1 = nn.BatchNorm1d(512)\n",
    "        self.bn2 = nn.BatchNorm1d(256)\n",
    "        self.relu = nn.ReLU()\n",
    "    def forward(self, x):\n",
    "        x, trans = self.feat(x)\n",
    "        x = F.relu(self.bn1(self.fc1(x)))\n",
    "        x = F.relu(self.bn2(self.fc2(x)))\n",
    "        x = self.fc3(x)\n",
    "        return F.log_softmax(x, dim=-1), trans"
   ]
  },
  {
   "cell_type": "code",
   "execution_count": 36,
   "metadata": {},
   "outputs": [
    {
     "name": "stdout",
     "output_type": "stream",
     "text": [
      "global feat torch.Size([32, 1024])\n",
      "point feat torch.Size([32, 1088, 2500])\n",
      "class torch.Size([32, 5])\n"
     ]
    }
   ],
   "source": [
    "pointfeat = PointNetfeat(global_feat=True)\n",
    "out, _ = pointfeat(sim_data)\n",
    "print('global feat', out.size())\n",
    "\n",
    "pointfeat = PointNetfeat(global_feat=False)\n",
    "out, _ = pointfeat(sim_data)\n",
    "print('point feat', out.size())\n",
    "\n",
    "cls = PointNetCls(k = 5)\n",
    "out, _ = cls(sim_data)\n",
    "print('class', out.size())"
   ]
  },
  {
   "cell_type": "markdown",
   "metadata": {},
   "source": [
    "### Build the Segmentation Head"
   ]
  },
  {
   "cell_type": "code",
   "execution_count": 37,
   "metadata": {
    "collapsed": true
   },
   "outputs": [],
   "source": [
    "class PointNetDenseCls(nn.Module):\n",
    "    \"\"\"\n",
    "    Network for Segmentation\n",
    "    \"\"\"\n",
    "    def __init__(self, num_points = 2500, k = 2):\n",
    "        super(PointNetDenseCls, self).__init__()\n",
    "        self.num_points = num_points\n",
    "        self.k = k\n",
    "        self.feat = PointNetfeat(num_points, global_feat=False)\n",
    "        self.conv1 = torch.nn.Conv1d(1088, 512, 1)\n",
    "        self.conv2 = torch.nn.Conv1d(512, 256, 1)\n",
    "        self.conv3 = torch.nn.Conv1d(256, 128, 1)\n",
    "        self.conv4 = torch.nn.Conv1d(128, self.k, 1)\n",
    "        self.bn1 = nn.BatchNorm1d(512)\n",
    "        self.bn2 = nn.BatchNorm1d(256)\n",
    "        self.bn3 = nn.BatchNorm1d(128)\n",
    "\n",
    "    def forward(self, x):\n",
    "        batchsize = x.size()[0]\n",
    "        x, trans = self.feat(x)\n",
    "        x = F.relu(self.bn1(self.conv1(x)))\n",
    "        x = F.relu(self.bn2(self.conv2(x)))\n",
    "        x = F.relu(self.bn3(self.conv3(x)))\n",
    "        x = self.conv4(x)\n",
    "        x = x.transpose(2,1).contiguous()\n",
    "        x = F.log_softmax(x.view(-1,self.k), dim=-1)\n",
    "        x = x.view(batchsize, self.num_points, self.k)\n",
    "        return x, trans"
   ]
  },
  {
   "cell_type": "code",
   "execution_count": 38,
   "metadata": {},
   "outputs": [
    {
     "name": "stdout",
     "output_type": "stream",
     "text": [
      "PointNetDenseCls(\n",
      "  (feat): PointNetfeat(\n",
      "    (stn): STN3d(\n",
      "      (conv1): Conv1d(3, 64, kernel_size=(1,), stride=(1,))\n",
      "      (conv2): Conv1d(64, 128, kernel_size=(1,), stride=(1,))\n",
      "      (conv3): Conv1d(128, 1024, kernel_size=(1,), stride=(1,))\n",
      "      (mp1): MaxPool1d(kernel_size=2500, stride=2500, padding=0, dilation=1, ceil_mode=False)\n",
      "      (fc1): Linear(in_features=1024, out_features=512, bias=True)\n",
      "      (fc2): Linear(in_features=512, out_features=256, bias=True)\n",
      "      (fc3): Linear(in_features=256, out_features=9, bias=True)\n",
      "      (relu): ReLU()\n",
      "      (bn1): BatchNorm1d(64, eps=1e-05, momentum=0.1, affine=True, track_running_stats=True)\n",
      "      (bn2): BatchNorm1d(128, eps=1e-05, momentum=0.1, affine=True, track_running_stats=True)\n",
      "      (bn3): BatchNorm1d(1024, eps=1e-05, momentum=0.1, affine=True, track_running_stats=True)\n",
      "      (bn4): BatchNorm1d(512, eps=1e-05, momentum=0.1, affine=True, track_running_stats=True)\n",
      "      (bn5): BatchNorm1d(256, eps=1e-05, momentum=0.1, affine=True, track_running_stats=True)\n",
      "    )\n",
      "    (conv1): Conv1d(3, 64, kernel_size=(1,), stride=(1,))\n",
      "    (conv2): Conv1d(64, 128, kernel_size=(1,), stride=(1,))\n",
      "    (conv3): Conv1d(128, 1024, kernel_size=(1,), stride=(1,))\n",
      "    (bn1): BatchNorm1d(64, eps=1e-05, momentum=0.1, affine=True, track_running_stats=True)\n",
      "    (bn2): BatchNorm1d(128, eps=1e-05, momentum=0.1, affine=True, track_running_stats=True)\n",
      "    (bn3): BatchNorm1d(1024, eps=1e-05, momentum=0.1, affine=True, track_running_stats=True)\n",
      "    (mp1): MaxPool1d(kernel_size=2500, stride=2500, padding=0, dilation=1, ceil_mode=False)\n",
      "  )\n",
      "  (conv1): Conv1d(1088, 512, kernel_size=(1,), stride=(1,))\n",
      "  (conv2): Conv1d(512, 256, kernel_size=(1,), stride=(1,))\n",
      "  (conv3): Conv1d(256, 128, kernel_size=(1,), stride=(1,))\n",
      "  (conv4): Conv1d(128, 3, kernel_size=(1,), stride=(1,))\n",
      "  (bn1): BatchNorm1d(512, eps=1e-05, momentum=0.1, affine=True, track_running_stats=True)\n",
      "  (bn2): BatchNorm1d(256, eps=1e-05, momentum=0.1, affine=True, track_running_stats=True)\n",
      "  (bn3): BatchNorm1d(128, eps=1e-05, momentum=0.1, affine=True, track_running_stats=True)\n",
      ")\n",
      "seg torch.Size([32, 2500, 3])\n"
     ]
    }
   ],
   "source": [
    "seg = PointNetDenseCls(k = 3)\n",
    "print(seg)\n",
    "out, _ = seg(sim_data)\n",
    "print('seg', out.size())"
   ]
  },
  {
   "cell_type": "markdown",
   "metadata": {},
   "source": [
    "## Train the Model for classification and segmentation"
   ]
  },
  {
   "cell_type": "code",
   "execution_count": 40,
   "metadata": {
    "collapsed": true
   },
   "outputs": [],
   "source": [
    "batchSize = 32 #32\n",
    "num_points = 2500 #2500\n",
    "workers = 4 #4\n",
    "nepoch = 25 #25\n",
    "outf=\"cls\" #'cls'"
   ]
  },
  {
   "cell_type": "code",
   "execution_count": 44,
   "metadata": {},
   "outputs": [
    {
     "name": "stdout",
     "output_type": "stream",
     "text": [
      "[0: 0/499] train loss: 3.023221 accuracy: 0.000000\n",
      "[0: 0/499] \u001b[94mtest\u001b[0m loss: 2.735402 accuracy: 0.093750\n",
      "[0: 1/499] train loss: 2.766330 accuracy: 0.031250\n",
      "[0: 2/499] train loss: 2.347060 accuracy: 0.500000\n",
      "[0: 3/499] train loss: 1.794998 accuracy: 0.718750\n",
      "[0: 4/499] train loss: 1.419572 accuracy: 0.812500\n",
      "[0: 5/499] train loss: 1.265538 accuracy: 0.656250\n",
      "[0: 6/499] train loss: 0.901818 accuracy: 0.812500\n",
      "[0: 7/499] train loss: 0.813305 accuracy: 0.843750\n",
      "[0: 8/499] train loss: 1.232675 accuracy: 0.687500\n",
      "[0: 9/499] train loss: 0.627813 accuracy: 0.906250\n",
      "[0: 10/499] train loss: 1.544910 accuracy: 0.625000\n",
      "[0: 10/499] \u001b[94mtest\u001b[0m loss: 2.610239 accuracy: 0.218750\n",
      "[0: 11/499] train loss: 0.631041 accuracy: 0.875000\n",
      "[0: 12/499] train loss: 1.457607 accuracy: 0.625000\n",
      "[0: 13/499] train loss: 0.985398 accuracy: 0.750000\n",
      "[0: 14/499] train loss: 0.446419 accuracy: 0.906250\n",
      "[0: 15/499] train loss: 0.443319 accuracy: 0.937500\n",
      "[0: 16/499] train loss: 0.546695 accuracy: 0.875000\n",
      "[0: 17/499] train loss: 0.667298 accuracy: 0.843750\n",
      "[0: 18/499] train loss: 0.912552 accuracy: 0.781250\n",
      "[0: 19/499] train loss: 0.828922 accuracy: 0.750000\n",
      "[0: 20/499] train loss: 0.979320 accuracy: 0.750000\n",
      "[0: 20/499] \u001b[94mtest\u001b[0m loss: 2.475970 accuracy: 0.218750\n",
      "[0: 21/499] train loss: 0.512051 accuracy: 0.781250\n",
      "[0: 22/499] train loss: 0.642347 accuracy: 0.812500\n",
      "[0: 23/499] train loss: 0.627391 accuracy: 0.812500\n",
      "[0: 24/499] train loss: 0.580494 accuracy: 0.843750\n",
      "[0: 25/499] train loss: 0.458110 accuracy: 0.875000\n",
      "[0: 26/499] train loss: 0.869162 accuracy: 0.812500\n",
      "[0: 27/499] train loss: 0.467121 accuracy: 0.906250\n",
      "[0: 28/499] train loss: 0.496574 accuracy: 0.875000\n",
      "[0: 29/499] train loss: 0.478255 accuracy: 0.875000\n",
      "[0: 30/499] train loss: 0.657757 accuracy: 0.781250\n",
      "[0: 30/499] \u001b[94mtest\u001b[0m loss: 2.157902 accuracy: 0.250000\n",
      "[0: 31/499] train loss: 0.631213 accuracy: 0.781250\n",
      "[0: 32/499] train loss: 0.195084 accuracy: 0.968750\n",
      "[0: 33/499] train loss: 0.340647 accuracy: 0.875000\n",
      "[0: 34/499] train loss: 0.346787 accuracy: 0.906250\n",
      "[0: 35/499] train loss: 0.447052 accuracy: 0.875000\n",
      "[0: 36/499] train loss: 0.321379 accuracy: 0.875000\n",
      "[0: 37/499] train loss: 0.478401 accuracy: 0.781250\n",
      "[0: 38/499] train loss: 0.339969 accuracy: 0.875000\n",
      "[0: 39/499] train loss: 0.374409 accuracy: 0.906250\n",
      "[0: 40/499] train loss: 0.428891 accuracy: 0.843750\n",
      "[0: 40/499] \u001b[94mtest\u001b[0m loss: 3.121551 accuracy: 0.187500\n",
      "[0: 41/499] train loss: 1.178120 accuracy: 0.781250\n",
      "[0: 42/499] train loss: 0.427819 accuracy: 0.843750\n",
      "[0: 43/499] train loss: 0.388072 accuracy: 0.875000\n",
      "[0: 44/499] train loss: 0.492212 accuracy: 0.843750\n",
      "[0: 45/499] train loss: 0.358599 accuracy: 0.937500\n",
      "[0: 46/499] train loss: 0.506397 accuracy: 0.843750\n",
      "[0: 47/499] train loss: 0.592764 accuracy: 0.843750\n",
      "[0: 48/499] train loss: 0.660448 accuracy: 0.843750\n",
      "[0: 49/499] train loss: 0.373123 accuracy: 0.906250\n",
      "[0: 50/499] train loss: 0.396311 accuracy: 0.875000\n",
      "[0: 50/499] \u001b[94mtest\u001b[0m loss: 1.512825 accuracy: 0.656250\n",
      "[0: 51/499] train loss: 0.438671 accuracy: 0.875000\n",
      "[0: 52/499] train loss: 0.383005 accuracy: 0.906250\n",
      "[0: 53/499] train loss: 0.317197 accuracy: 0.937500\n",
      "[0: 54/499] train loss: 0.330260 accuracy: 0.937500\n",
      "[0: 55/499] train loss: 0.369539 accuracy: 0.906250\n",
      "[0: 56/499] train loss: 0.327137 accuracy: 0.906250\n",
      "[0: 57/499] train loss: 0.444734 accuracy: 0.906250\n",
      "[0: 58/499] train loss: 0.615767 accuracy: 0.843750\n",
      "[0: 59/499] train loss: 0.559703 accuracy: 0.875000\n",
      "[0: 60/499] train loss: 0.210993 accuracy: 0.937500\n",
      "[0: 60/499] \u001b[94mtest\u001b[0m loss: 0.530080 accuracy: 0.843750\n",
      "[0: 61/499] train loss: 0.437883 accuracy: 0.906250\n",
      "[0: 62/499] train loss: 0.147681 accuracy: 0.937500\n",
      "[0: 63/499] train loss: 0.210063 accuracy: 0.937500\n",
      "[0: 64/499] train loss: 0.465552 accuracy: 0.875000\n",
      "[0: 65/499] train loss: 0.420522 accuracy: 0.875000\n",
      "[0: 66/499] train loss: 0.377152 accuracy: 0.875000\n",
      "[0: 67/499] train loss: 0.737648 accuracy: 0.781250\n",
      "[0: 68/499] train loss: 0.308216 accuracy: 0.906250\n",
      "[0: 69/499] train loss: 0.658180 accuracy: 0.750000\n",
      "[0: 70/499] train loss: 0.388781 accuracy: 0.843750\n",
      "[0: 70/499] \u001b[94mtest\u001b[0m loss: 0.423470 accuracy: 0.906250\n",
      "[0: 71/499] train loss: 0.451894 accuracy: 0.843750\n",
      "[0: 72/499] train loss: 0.225434 accuracy: 0.968750\n",
      "[0: 73/499] train loss: 0.475363 accuracy: 0.843750\n",
      "[0: 74/499] train loss: 0.253047 accuracy: 0.906250\n",
      "[0: 75/499] train loss: 0.426483 accuracy: 0.875000\n",
      "[0: 76/499] train loss: 0.136494 accuracy: 1.000000\n",
      "[0: 77/499] train loss: 0.394214 accuracy: 0.875000\n",
      "[0: 78/499] train loss: 0.257457 accuracy: 0.906250\n",
      "[0: 79/499] train loss: 0.256805 accuracy: 0.906250\n",
      "[0: 80/499] train loss: 0.319785 accuracy: 0.906250\n",
      "[0: 80/499] \u001b[94mtest\u001b[0m loss: 0.401599 accuracy: 0.875000\n",
      "[0: 81/499] train loss: 0.131907 accuracy: 0.968750\n",
      "[0: 82/499] train loss: 0.146042 accuracy: 0.937500\n",
      "[0: 83/499] train loss: 0.372689 accuracy: 0.875000\n",
      "[0: 84/499] train loss: 0.213690 accuracy: 0.968750\n",
      "[0: 85/499] train loss: 0.397392 accuracy: 0.906250\n",
      "[0: 86/499] train loss: 0.610426 accuracy: 0.875000\n",
      "[0: 87/499] train loss: 0.264209 accuracy: 0.937500\n",
      "[0: 88/499] train loss: 0.078338 accuracy: 0.968750\n",
      "[0: 89/499] train loss: 0.487337 accuracy: 0.906250\n",
      "[0: 90/499] train loss: 0.207456 accuracy: 0.937500\n",
      "[0: 90/499] \u001b[94mtest\u001b[0m loss: 0.542948 accuracy: 0.812500\n",
      "[0: 91/499] train loss: 0.191241 accuracy: 0.968750\n",
      "[0: 92/499] train loss: 0.215787 accuracy: 0.906250\n",
      "[0: 93/499] train loss: 0.370984 accuracy: 0.812500\n",
      "[0: 94/499] train loss: 0.303006 accuracy: 0.906250\n",
      "[0: 95/499] train loss: 0.592582 accuracy: 0.875000\n",
      "[0: 96/499] train loss: 0.538710 accuracy: 0.812500\n",
      "[0: 97/499] train loss: 0.484697 accuracy: 0.843750\n",
      "[0: 98/499] train loss: 0.242677 accuracy: 0.968750\n",
      "[0: 99/499] train loss: 0.268994 accuracy: 0.937500\n",
      "[0: 100/499] train loss: 0.145504 accuracy: 0.937500\n",
      "[0: 100/499] \u001b[94mtest\u001b[0m loss: 0.229953 accuracy: 0.906250\n",
      "[0: 101/499] train loss: 0.367519 accuracy: 0.937500\n",
      "[0: 102/499] train loss: 0.216163 accuracy: 0.875000\n",
      "[0: 103/499] train loss: 0.204438 accuracy: 0.875000\n",
      "[0: 104/499] train loss: 0.360551 accuracy: 0.937500\n",
      "[0: 105/499] train loss: 0.461649 accuracy: 0.843750\n",
      "[0: 106/499] train loss: 0.477338 accuracy: 0.812500\n",
      "[0: 107/499] train loss: 0.274535 accuracy: 0.906250\n",
      "[0: 108/499] train loss: 0.148034 accuracy: 0.968750\n",
      "[0: 109/499] train loss: 0.351875 accuracy: 0.906250\n",
      "[0: 110/499] train loss: 0.212324 accuracy: 0.968750\n",
      "[0: 110/499] \u001b[94mtest\u001b[0m loss: 0.078443 accuracy: 0.937500\n",
      "[0: 111/499] train loss: 0.059826 accuracy: 1.000000\n",
      "[0: 112/499] train loss: 0.297793 accuracy: 0.906250\n",
      "[0: 113/499] train loss: 0.347834 accuracy: 0.875000\n",
      "[0: 114/499] train loss: 0.407585 accuracy: 0.875000\n",
      "[0: 115/499] train loss: 0.184319 accuracy: 0.906250\n",
      "[0: 116/499] train loss: 0.304807 accuracy: 0.937500\n",
      "[0: 117/499] train loss: 0.079387 accuracy: 0.968750\n",
      "[0: 118/499] train loss: 0.243422 accuracy: 0.968750\n",
      "[0: 119/499] train loss: 0.422842 accuracy: 0.906250\n",
      "[0: 120/499] train loss: 0.171259 accuracy: 0.937500\n",
      "[0: 120/499] \u001b[94mtest\u001b[0m loss: 0.404187 accuracy: 0.875000\n",
      "[0: 121/499] train loss: 0.508828 accuracy: 0.843750\n",
      "[0: 122/499] train loss: 0.153709 accuracy: 0.937500\n",
      "[0: 123/499] train loss: 0.384134 accuracy: 0.906250\n",
      "[0: 124/499] train loss: 0.404218 accuracy: 0.906250\n",
      "[0: 125/499] train loss: 0.240717 accuracy: 0.937500\n",
      "[0: 126/499] train loss: 0.069372 accuracy: 1.000000\n",
      "[0: 127/499] train loss: 0.476302 accuracy: 0.875000\n",
      "[0: 128/499] train loss: 0.411025 accuracy: 0.906250\n",
      "[0: 129/499] train loss: 0.190221 accuracy: 0.968750\n",
      "[0: 130/499] train loss: 0.276482 accuracy: 0.937500\n",
      "[0: 130/499] \u001b[94mtest\u001b[0m loss: 0.300924 accuracy: 0.906250\n",
      "[0: 131/499] train loss: 0.100386 accuracy: 0.968750\n",
      "[0: 132/499] train loss: 0.483281 accuracy: 0.875000\n",
      "[0: 133/499] train loss: 0.195409 accuracy: 0.968750\n",
      "[0: 134/499] train loss: 0.507223 accuracy: 0.875000\n",
      "[0: 135/499] train loss: 0.082852 accuracy: 1.000000\n",
      "[0: 136/499] train loss: 0.312135 accuracy: 0.906250\n",
      "[0: 137/499] train loss: 0.522973 accuracy: 0.875000\n",
      "[0: 138/499] train loss: 0.367464 accuracy: 0.843750\n",
      "[0: 139/499] train loss: 0.184204 accuracy: 0.968750\n",
      "[0: 140/499] train loss: 0.149523 accuracy: 1.000000\n"
     ]
    },
    {
     "name": "stdout",
     "output_type": "stream",
     "text": [
      "[0: 140/499] \u001b[94mtest\u001b[0m loss: 0.046699 accuracy: 1.000000\n",
      "[0: 141/499] train loss: 0.239141 accuracy: 0.906250\n",
      "[0: 142/499] train loss: 0.285551 accuracy: 0.843750\n",
      "[0: 143/499] train loss: 0.288004 accuracy: 0.906250\n",
      "[0: 144/499] train loss: 0.207107 accuracy: 0.937500\n",
      "[0: 145/499] train loss: 0.421626 accuracy: 0.875000\n",
      "[0: 146/499] train loss: 0.141395 accuracy: 1.000000\n",
      "[0: 147/499] train loss: 0.430929 accuracy: 0.875000\n",
      "[0: 148/499] train loss: 0.159051 accuracy: 0.968750\n",
      "[0: 149/499] train loss: 0.113270 accuracy: 0.968750\n",
      "[0: 150/499] train loss: 0.098232 accuracy: 0.968750\n",
      "[0: 150/499] \u001b[94mtest\u001b[0m loss: 0.105162 accuracy: 0.937500\n",
      "[0: 151/499] train loss: 0.064095 accuracy: 1.000000\n",
      "[0: 152/499] train loss: 0.398215 accuracy: 0.843750\n",
      "[0: 153/499] train loss: 0.110506 accuracy: 0.968750\n",
      "[0: 154/499] train loss: 0.103522 accuracy: 1.000000\n",
      "[0: 155/499] train loss: 0.097378 accuracy: 0.968750\n",
      "[0: 156/499] train loss: 0.094396 accuracy: 0.968750\n",
      "[0: 157/499] train loss: 0.639133 accuracy: 0.843750\n",
      "[0: 158/499] train loss: 0.235046 accuracy: 0.906250\n",
      "[0: 159/499] train loss: 0.200623 accuracy: 0.968750\n",
      "[0: 160/499] train loss: 0.098636 accuracy: 0.968750\n",
      "[0: 160/499] \u001b[94mtest\u001b[0m loss: 0.319327 accuracy: 0.875000\n",
      "[0: 161/499] train loss: 0.306098 accuracy: 0.906250\n",
      "[0: 162/499] train loss: 0.208918 accuracy: 0.906250\n",
      "[0: 163/499] train loss: 0.161614 accuracy: 0.937500\n",
      "[0: 164/499] train loss: 0.153564 accuracy: 0.937500\n",
      "[0: 165/499] train loss: 0.333702 accuracy: 0.875000\n",
      "[0: 166/499] train loss: 0.136102 accuracy: 0.968750\n",
      "[0: 167/499] train loss: 0.259578 accuracy: 0.906250\n",
      "[0: 168/499] train loss: 0.222555 accuracy: 0.937500\n",
      "[0: 169/499] train loss: 0.324828 accuracy: 0.937500\n",
      "[0: 170/499] train loss: 0.183578 accuracy: 0.937500\n",
      "[0: 170/499] \u001b[94mtest\u001b[0m loss: 0.229722 accuracy: 0.906250\n",
      "[0: 171/499] train loss: 0.282038 accuracy: 0.875000\n",
      "[0: 172/499] train loss: 0.572142 accuracy: 0.875000\n",
      "[0: 173/499] train loss: 0.142757 accuracy: 0.937500\n",
      "[0: 174/499] train loss: 0.247562 accuracy: 0.875000\n",
      "[0: 175/499] train loss: 0.224100 accuracy: 0.906250\n",
      "[0: 176/499] train loss: 0.379444 accuracy: 0.906250\n",
      "[0: 177/499] train loss: 0.147083 accuracy: 0.968750\n",
      "[0: 178/499] train loss: 0.398037 accuracy: 0.875000\n",
      "[0: 179/499] train loss: 0.164563 accuracy: 0.937500\n",
      "[0: 180/499] train loss: 0.079932 accuracy: 0.968750\n",
      "[0: 180/499] \u001b[94mtest\u001b[0m loss: 0.147752 accuracy: 0.937500\n",
      "[0: 181/499] train loss: 0.326106 accuracy: 0.906250\n",
      "[0: 182/499] train loss: 0.154510 accuracy: 0.937500\n",
      "[0: 183/499] train loss: 0.392966 accuracy: 0.875000\n",
      "[0: 184/499] train loss: 0.116814 accuracy: 0.968750\n",
      "[0: 185/499] train loss: 0.320953 accuracy: 0.875000\n",
      "[0: 186/499] train loss: 0.243195 accuracy: 0.906250\n",
      "[0: 187/499] train loss: 0.091272 accuracy: 0.968750\n",
      "[0: 188/499] train loss: 0.087396 accuracy: 0.968750\n",
      "[0: 189/499] train loss: 0.609923 accuracy: 0.875000\n",
      "[0: 190/499] train loss: 0.093844 accuracy: 0.968750\n",
      "[0: 190/499] \u001b[94mtest\u001b[0m loss: 0.303707 accuracy: 0.875000\n",
      "[0: 191/499] train loss: 0.042796 accuracy: 1.000000\n",
      "[0: 192/499] train loss: 0.272084 accuracy: 0.906250\n",
      "[0: 193/499] train loss: 0.183417 accuracy: 0.968750\n",
      "[0: 194/499] train loss: 0.086772 accuracy: 0.968750\n",
      "[0: 195/499] train loss: 0.634085 accuracy: 0.843750\n",
      "[0: 196/499] train loss: 0.299625 accuracy: 0.906250\n",
      "[0: 197/499] train loss: 0.146006 accuracy: 0.937500\n",
      "[0: 198/499] train loss: 0.218548 accuracy: 0.937500\n",
      "[0: 199/499] train loss: 0.088488 accuracy: 0.968750\n",
      "[0: 200/499] train loss: 0.090569 accuracy: 0.968750\n",
      "[0: 200/499] \u001b[94mtest\u001b[0m loss: 0.043558 accuracy: 1.000000\n",
      "[0: 201/499] train loss: 0.158368 accuracy: 0.906250\n",
      "[0: 202/499] train loss: 0.107228 accuracy: 0.968750\n",
      "[0: 203/499] train loss: 0.348556 accuracy: 0.937500\n",
      "[0: 204/499] train loss: 0.135049 accuracy: 0.937500\n",
      "[0: 205/499] train loss: 0.085644 accuracy: 0.968750\n",
      "[0: 206/499] train loss: 0.260427 accuracy: 0.937500\n",
      "[0: 207/499] train loss: 0.196966 accuracy: 0.906250\n",
      "[0: 208/499] train loss: 0.199171 accuracy: 0.937500\n",
      "[0: 209/499] train loss: 0.163359 accuracy: 0.968750\n",
      "[0: 210/499] train loss: 0.119544 accuracy: 0.968750\n",
      "[0: 210/499] \u001b[94mtest\u001b[0m loss: 0.069957 accuracy: 1.000000\n",
      "[0: 211/499] train loss: 0.178671 accuracy: 0.968750\n",
      "[0: 212/499] train loss: 0.182629 accuracy: 0.937500\n",
      "[0: 213/499] train loss: 0.087314 accuracy: 0.968750\n",
      "[0: 214/499] train loss: 0.124903 accuracy: 0.968750\n",
      "[0: 215/499] train loss: 0.170454 accuracy: 0.937500\n",
      "[0: 216/499] train loss: 0.269639 accuracy: 0.937500\n",
      "[0: 217/499] train loss: 0.116288 accuracy: 0.968750\n",
      "[0: 218/499] train loss: 0.195032 accuracy: 0.937500\n",
      "[0: 219/499] train loss: 0.019764 accuracy: 1.000000\n",
      "[0: 220/499] train loss: 0.047858 accuracy: 0.968750\n",
      "[0: 220/499] \u001b[94mtest\u001b[0m loss: 0.075147 accuracy: 1.000000\n",
      "[0: 221/499] train loss: 0.300586 accuracy: 0.906250\n",
      "[0: 222/499] train loss: 0.313598 accuracy: 0.968750\n",
      "[0: 223/499] train loss: 0.115624 accuracy: 0.968750\n",
      "[0: 224/499] train loss: 0.107310 accuracy: 0.937500\n",
      "[0: 225/499] train loss: 0.165427 accuracy: 0.968750\n",
      "[0: 226/499] train loss: 0.169651 accuracy: 0.937500\n",
      "[0: 227/499] train loss: 0.069962 accuracy: 1.000000\n",
      "[0: 228/499] train loss: 0.161621 accuracy: 0.906250\n",
      "[0: 229/499] train loss: 0.075224 accuracy: 1.000000\n",
      "[0: 230/499] train loss: 0.178237 accuracy: 0.906250\n",
      "[0: 230/499] \u001b[94mtest\u001b[0m loss: 0.089617 accuracy: 0.968750\n",
      "[0: 231/499] train loss: 0.423353 accuracy: 0.906250\n",
      "[0: 232/499] train loss: 0.116516 accuracy: 0.937500\n",
      "[0: 233/499] train loss: 0.082966 accuracy: 0.968750\n",
      "[0: 234/499] train loss: 0.039988 accuracy: 1.000000\n",
      "[0: 235/499] train loss: 0.160832 accuracy: 0.937500\n",
      "[0: 236/499] train loss: 0.130266 accuracy: 0.968750\n",
      "[0: 237/499] train loss: 0.174517 accuracy: 0.937500\n",
      "[0: 238/499] train loss: 0.131125 accuracy: 0.968750\n",
      "[0: 239/499] train loss: 0.033169 accuracy: 1.000000\n",
      "[0: 240/499] train loss: 0.619625 accuracy: 0.906250\n",
      "[0: 240/499] \u001b[94mtest\u001b[0m loss: 0.245137 accuracy: 0.937500\n",
      "[0: 241/499] train loss: 0.149124 accuracy: 0.968750\n",
      "[0: 242/499] train loss: 0.171953 accuracy: 0.906250\n",
      "[0: 243/499] train loss: 0.130455 accuracy: 0.968750\n",
      "[0: 244/499] train loss: 0.092654 accuracy: 1.000000\n",
      "[0: 245/499] train loss: 0.135213 accuracy: 0.968750\n",
      "[0: 246/499] train loss: 0.149903 accuracy: 0.937500\n",
      "[0: 247/499] train loss: 0.110458 accuracy: 0.937500\n",
      "[0: 248/499] train loss: 0.228736 accuracy: 0.937500\n",
      "[0: 249/499] train loss: 0.207694 accuracy: 0.968750\n",
      "[0: 250/499] train loss: 0.063439 accuracy: 1.000000\n",
      "[0: 250/499] \u001b[94mtest\u001b[0m loss: 0.399039 accuracy: 0.843750\n",
      "[0: 251/499] train loss: 0.170450 accuracy: 0.906250\n",
      "[0: 252/499] train loss: 0.494571 accuracy: 0.906250\n",
      "[0: 253/499] train loss: 0.189639 accuracy: 0.937500\n",
      "[0: 254/499] train loss: 0.156702 accuracy: 0.937500\n",
      "[0: 255/499] train loss: 0.295042 accuracy: 0.968750\n",
      "[0: 256/499] train loss: 0.122834 accuracy: 0.968750\n",
      "[0: 257/499] train loss: 0.056549 accuracy: 1.000000\n",
      "[0: 258/499] train loss: 0.055478 accuracy: 1.000000\n",
      "[0: 259/499] train loss: 0.023063 accuracy: 1.000000\n",
      "[0: 260/499] train loss: 0.095698 accuracy: 0.968750\n",
      "[0: 260/499] \u001b[94mtest\u001b[0m loss: 0.020285 accuracy: 1.000000\n",
      "[0: 261/499] train loss: 0.467325 accuracy: 0.937500\n",
      "[0: 262/499] train loss: 0.104917 accuracy: 0.968750\n",
      "[0: 263/499] train loss: 0.045827 accuracy: 1.000000\n",
      "[0: 264/499] train loss: 0.023374 accuracy: 1.000000\n",
      "[0: 265/499] train loss: 0.124681 accuracy: 0.937500\n",
      "[0: 266/499] train loss: 0.092250 accuracy: 0.968750\n",
      "[0: 267/499] train loss: 0.323753 accuracy: 0.875000\n",
      "[0: 268/499] train loss: 0.059433 accuracy: 0.968750\n",
      "[0: 269/499] train loss: 0.047640 accuracy: 1.000000\n",
      "[0: 270/499] train loss: 0.107720 accuracy: 0.937500\n",
      "[0: 270/499] \u001b[94mtest\u001b[0m loss: 0.150147 accuracy: 0.968750\n",
      "[0: 271/499] train loss: 0.124344 accuracy: 0.968750\n",
      "[0: 272/499] train loss: 0.070124 accuracy: 0.968750\n",
      "[0: 273/499] train loss: 0.155220 accuracy: 0.968750\n",
      "[0: 274/499] train loss: 0.035764 accuracy: 1.000000\n",
      "[0: 275/499] train loss: 0.201314 accuracy: 0.937500\n",
      "[0: 276/499] train loss: 0.274045 accuracy: 0.906250\n",
      "[0: 277/499] train loss: 0.241458 accuracy: 0.937500\n",
      "[0: 278/499] train loss: 0.342147 accuracy: 0.906250\n",
      "[0: 279/499] train loss: 0.134393 accuracy: 0.937500\n",
      "[0: 280/499] train loss: 0.226742 accuracy: 0.937500\n"
     ]
    },
    {
     "name": "stdout",
     "output_type": "stream",
     "text": [
      "[0: 280/499] \u001b[94mtest\u001b[0m loss: 0.038150 accuracy: 1.000000\n",
      "[0: 281/499] train loss: 0.224744 accuracy: 0.937500\n",
      "[0: 282/499] train loss: 0.081602 accuracy: 0.968750\n",
      "[0: 283/499] train loss: 0.205170 accuracy: 0.937500\n",
      "[0: 284/499] train loss: 0.110974 accuracy: 0.968750\n",
      "[0: 285/499] train loss: 0.096546 accuracy: 0.968750\n",
      "[0: 286/499] train loss: 0.018223 accuracy: 1.000000\n",
      "[0: 287/499] train loss: 0.180799 accuracy: 0.906250\n",
      "[0: 288/499] train loss: 0.170490 accuracy: 0.906250\n",
      "[0: 289/499] train loss: 0.088041 accuracy: 0.937500\n",
      "[0: 290/499] train loss: 0.222995 accuracy: 0.968750\n",
      "[0: 290/499] \u001b[94mtest\u001b[0m loss: 0.164888 accuracy: 0.937500\n",
      "[0: 291/499] train loss: 0.208322 accuracy: 0.937500\n",
      "[0: 292/499] train loss: 0.063349 accuracy: 1.000000\n",
      "[0: 293/499] train loss: 0.055839 accuracy: 0.968750\n",
      "[0: 294/499] train loss: 0.416242 accuracy: 0.812500\n",
      "[0: 295/499] train loss: 0.237187 accuracy: 0.937500\n",
      "[0: 296/499] train loss: 0.124889 accuracy: 0.968750\n",
      "[0: 297/499] train loss: 0.027941 accuracy: 1.000000\n",
      "[0: 298/499] train loss: 0.089407 accuracy: 0.968750\n",
      "[0: 299/499] train loss: 0.063766 accuracy: 0.968750\n",
      "[0: 300/499] train loss: 0.479706 accuracy: 0.875000\n",
      "[0: 300/499] \u001b[94mtest\u001b[0m loss: 0.128450 accuracy: 0.968750\n",
      "[0: 301/499] train loss: 0.074644 accuracy: 0.968750\n",
      "[0: 302/499] train loss: 0.072299 accuracy: 0.968750\n",
      "[0: 303/499] train loss: 0.084625 accuracy: 0.968750\n",
      "[0: 304/499] train loss: 0.219253 accuracy: 0.906250\n",
      "[0: 305/499] train loss: 0.579211 accuracy: 0.875000\n",
      "[0: 306/499] train loss: 0.175089 accuracy: 0.968750\n",
      "[0: 307/499] train loss: 0.350259 accuracy: 0.968750\n",
      "[0: 308/499] train loss: 0.165183 accuracy: 0.937500\n",
      "[0: 309/499] train loss: 0.244558 accuracy: 0.937500\n",
      "[0: 310/499] train loss: 0.139753 accuracy: 0.968750\n",
      "[0: 310/499] \u001b[94mtest\u001b[0m loss: 0.255499 accuracy: 0.906250\n",
      "[0: 311/499] train loss: 0.178248 accuracy: 0.937500\n",
      "[0: 312/499] train loss: 0.150497 accuracy: 0.937500\n",
      "[0: 313/499] train loss: 0.086798 accuracy: 0.968750\n",
      "[0: 314/499] train loss: 0.108849 accuracy: 0.968750\n",
      "[0: 315/499] train loss: 0.048803 accuracy: 1.000000\n",
      "[0: 316/499] train loss: 0.346615 accuracy: 0.968750\n",
      "[0: 317/499] train loss: 0.224033 accuracy: 0.906250\n",
      "[0: 318/499] train loss: 0.028375 accuracy: 1.000000\n",
      "[0: 319/499] train loss: 0.150992 accuracy: 0.937500\n",
      "[0: 320/499] train loss: 0.183398 accuracy: 0.968750\n",
      "[0: 320/499] \u001b[94mtest\u001b[0m loss: 0.244255 accuracy: 0.937500\n",
      "[0: 321/499] train loss: 0.154079 accuracy: 0.968750\n",
      "[0: 322/499] train loss: 0.107273 accuracy: 0.937500\n",
      "[0: 323/499] train loss: 0.241534 accuracy: 0.906250\n",
      "[0: 324/499] train loss: 0.207258 accuracy: 0.968750\n"
     ]
    },
    {
     "ename": "KeyboardInterrupt",
     "evalue": "",
     "output_type": "error",
     "traceback": [
      "\u001b[0;31m---------------------------------------------------------------------------\u001b[0m",
      "\u001b[0;31mKeyboardInterrupt\u001b[0m                         Traceback (most recent call last)",
      "\u001b[0;32m<ipython-input-44-4937d36467a6>\u001b[0m in \u001b[0;36m<module>\u001b[0;34m\u001b[0m\n\u001b[1;32m     35\u001b[0m         \u001b[0moptimizer\u001b[0m\u001b[0;34m.\u001b[0m\u001b[0mstep\u001b[0m\u001b[0;34m(\u001b[0m\u001b[0;34m)\u001b[0m\u001b[0;34m\u001b[0m\u001b[0;34m\u001b[0m\u001b[0m\n\u001b[1;32m     36\u001b[0m         \u001b[0mpred_choice\u001b[0m \u001b[0;34m=\u001b[0m \u001b[0mpred\u001b[0m\u001b[0;34m.\u001b[0m\u001b[0mdata\u001b[0m\u001b[0;34m.\u001b[0m\u001b[0mmax\u001b[0m\u001b[0;34m(\u001b[0m\u001b[0;36m1\u001b[0m\u001b[0;34m)\u001b[0m\u001b[0;34m[\u001b[0m\u001b[0;36m1\u001b[0m\u001b[0;34m]\u001b[0m\u001b[0;34m\u001b[0m\u001b[0;34m\u001b[0m\u001b[0m\n\u001b[0;32m---> 37\u001b[0;31m         \u001b[0mcorrect\u001b[0m \u001b[0;34m=\u001b[0m \u001b[0mpred_choice\u001b[0m\u001b[0;34m.\u001b[0m\u001b[0meq\u001b[0m\u001b[0;34m(\u001b[0m\u001b[0mtarget\u001b[0m\u001b[0;34m.\u001b[0m\u001b[0mdata\u001b[0m\u001b[0;34m)\u001b[0m\u001b[0;34m.\u001b[0m\u001b[0mcpu\u001b[0m\u001b[0;34m(\u001b[0m\u001b[0;34m)\u001b[0m\u001b[0;34m.\u001b[0m\u001b[0msum\u001b[0m\u001b[0;34m(\u001b[0m\u001b[0;34m)\u001b[0m\u001b[0;34m\u001b[0m\u001b[0;34m\u001b[0m\u001b[0m\n\u001b[0m\u001b[1;32m     38\u001b[0m         \u001b[0mprint\u001b[0m\u001b[0;34m(\u001b[0m\u001b[0;34m'[%d: %d/%d] train loss: %f accuracy: %f'\u001b[0m \u001b[0;34m%\u001b[0m\u001b[0;34m(\u001b[0m\u001b[0mepoch\u001b[0m\u001b[0;34m,\u001b[0m \u001b[0mi\u001b[0m\u001b[0;34m,\u001b[0m \u001b[0mnum_batch\u001b[0m\u001b[0;34m,\u001b[0m \u001b[0mloss\u001b[0m\u001b[0;34m.\u001b[0m\u001b[0mitem\u001b[0m\u001b[0;34m(\u001b[0m\u001b[0;34m)\u001b[0m\u001b[0;34m,\u001b[0m\u001b[0mcorrect\u001b[0m\u001b[0;34m.\u001b[0m\u001b[0mitem\u001b[0m\u001b[0;34m(\u001b[0m\u001b[0;34m)\u001b[0m \u001b[0;34m/\u001b[0m \u001b[0mfloat\u001b[0m\u001b[0;34m(\u001b[0m\u001b[0mbatchSize\u001b[0m\u001b[0;34m)\u001b[0m\u001b[0;34m)\u001b[0m\u001b[0;34m)\u001b[0m\u001b[0;34m\u001b[0m\u001b[0;34m\u001b[0m\u001b[0m\n\u001b[1;32m     39\u001b[0m \u001b[0;34m\u001b[0m\u001b[0m\n",
      "\u001b[0;31mKeyboardInterrupt\u001b[0m: "
     ]
    }
   ],
   "source": [
    "# DATASET & DATA LOADER\n",
    "dataset = PartDataset(root = DATA_FOLDER, classification = True, npoints = num_points)\n",
    "dataloader = torch.utils.data.DataLoader(dataset, batch_size=batchSize, shuffle=True, num_workers=workers)\n",
    "\n",
    "test_dataset = PartDataset(root = DATA_FOLDER, classification = True, train = False, npoints = num_points)\n",
    "testdataloader = torch.utils.data.DataLoader(test_dataset, batch_size=batchSize,shuffle=True, num_workers=workers)\n",
    "\n",
    "blue = lambda x:'\\033[94m' + x + '\\033[0m'\n",
    "\n",
    "# CALL THE MODEL\n",
    "num_classes = len(classes_dict.items())\n",
    "classifier = PointNetCls(k = num_classes, num_points = num_points)\n",
    "#classifier.load_state_dict(torch.load(\"\"))\n",
    "\n",
    "# DEFINE OPTIMIZERS\n",
    "optimizer = optim.SGD(classifier.parameters(), lr=0.01, momentum=0.9)\n",
    "if torch.cuda.is_available():\n",
    "    classifier.cuda()\n",
    "\n",
    "num_batch = len(dataset)/batchSize\n",
    "\n",
    "# TRAIN ON EPOCHS\n",
    "for epoch in range(nepoch):\n",
    "    for i, data in enumerate(dataloader, 0):\n",
    "        \"\"\"\n",
    "        Get Points & Classification Label\n",
    "        \"\"\"\n",
    "        points, target = data\n",
    "        points, target= Variable(points), Variable(target[:,0])\n",
    "        points = points.transpose(2,1)\n",
    "        if torch.cuda.is_available():\n",
    "            points, target = points.cuda(), target.cuda()\n",
    "        \n",
    "        optimizer.zero_grad()\n",
    "        classifier = classifier.train()\n",
    "        pred, _ = classifier(points)\n",
    "        loss = F.nll_loss(pred, target)\n",
    "        loss.backward()\n",
    "        optimizer.step()\n",
    "        pred_choice = pred.data.max(1)[1]\n",
    "        correct = pred_choice.eq(target.data).cpu().sum()\n",
    "        print('[%d: %d/%d] train loss: %f accuracy: %f' %(epoch, i, num_batch, loss.item(),correct.item() / float(batchSize)))\n",
    "\n",
    "        if i % 10 == 0:\n",
    "            j, data = next(enumerate(testdataloader, 0))\n",
    "            points, target = data\n",
    "            points, target = Variable(points), Variable(target[:,0])\n",
    "            points = points.transpose(2,1)\n",
    "            if torch.cuda.is_available():\n",
    "                points, target = points.cuda(), target.cuda()\n",
    "            classifier = classifier.eval()\n",
    "            pred, _ = classifier(points)\n",
    "            loss = F.nll_loss(pred, target)\n",
    "            pred_choice = pred.data.max(1)[1]\n",
    "            correct = pred_choice.eq(target.data).cpu().sum()\n",
    "            print('[%d: %d/%d] %s loss: %f accuracy: %f' %(epoch, i, num_batch, blue('test'), loss.item(), correct.item()/float(batchSize)))\n",
    "\n",
    "    torch.save(classifier.state_dict(), '%s/cls_model_%d.pth' % (outf, epoch))"
   ]
  },
  {
   "cell_type": "code",
   "execution_count": 45,
   "metadata": {},
   "outputs": [
    {
     "data": {
      "text/plain": [
       "PointNetCls(\n",
       "  (feat): PointNetfeat(\n",
       "    (stn): STN3d(\n",
       "      (conv1): Conv1d(3, 64, kernel_size=(1,), stride=(1,))\n",
       "      (conv2): Conv1d(64, 128, kernel_size=(1,), stride=(1,))\n",
       "      (conv3): Conv1d(128, 1024, kernel_size=(1,), stride=(1,))\n",
       "      (mp1): MaxPool1d(kernel_size=10000, stride=10000, padding=0, dilation=1, ceil_mode=False)\n",
       "      (fc1): Linear(in_features=1024, out_features=512, bias=True)\n",
       "      (fc2): Linear(in_features=512, out_features=256, bias=True)\n",
       "      (fc3): Linear(in_features=256, out_features=9, bias=True)\n",
       "      (relu): ReLU()\n",
       "      (bn1): BatchNorm1d(64, eps=1e-05, momentum=0.1, affine=True, track_running_stats=True)\n",
       "      (bn2): BatchNorm1d(128, eps=1e-05, momentum=0.1, affine=True, track_running_stats=True)\n",
       "      (bn3): BatchNorm1d(1024, eps=1e-05, momentum=0.1, affine=True, track_running_stats=True)\n",
       "      (bn4): BatchNorm1d(512, eps=1e-05, momentum=0.1, affine=True, track_running_stats=True)\n",
       "      (bn5): BatchNorm1d(256, eps=1e-05, momentum=0.1, affine=True, track_running_stats=True)\n",
       "    )\n",
       "    (conv1): Conv1d(3, 64, kernel_size=(1,), stride=(1,))\n",
       "    (conv2): Conv1d(64, 128, kernel_size=(1,), stride=(1,))\n",
       "    (conv3): Conv1d(128, 1024, kernel_size=(1,), stride=(1,))\n",
       "    (bn1): BatchNorm1d(64, eps=1e-05, momentum=0.1, affine=True, track_running_stats=True)\n",
       "    (bn2): BatchNorm1d(128, eps=1e-05, momentum=0.1, affine=True, track_running_stats=True)\n",
       "    (bn3): BatchNorm1d(1024, eps=1e-05, momentum=0.1, affine=True, track_running_stats=True)\n",
       "    (mp1): MaxPool1d(kernel_size=10000, stride=10000, padding=0, dilation=1, ceil_mode=False)\n",
       "  )\n",
       "  (fc1): Linear(in_features=1024, out_features=512, bias=True)\n",
       "  (fc2): Linear(in_features=512, out_features=256, bias=True)\n",
       "  (fc3): Linear(in_features=256, out_features=16, bias=True)\n",
       "  (bn1): BatchNorm1d(512, eps=1e-05, momentum=0.1, affine=True, track_running_stats=True)\n",
       "  (bn2): BatchNorm1d(256, eps=1e-05, momentum=0.1, affine=True, track_running_stats=True)\n",
       "  (relu): ReLU()\n",
       ")"
      ]
     },
     "execution_count": 45,
     "metadata": {},
     "output_type": "execute_result"
    }
   ],
   "source": [
    "NUM_POINTS = 10000\n",
    "MODEL_PATH = 'cls/cls_model_24.pth'\n",
    "\n",
    "# Create the classification network from pre-trained model\n",
    "classifier = PointNetCls(k=num_classes, num_points=NUM_POINTS)\n",
    "if torch.cuda.is_available():\n",
    "    classifier.cuda()\n",
    "    classifier.load_state_dict(torch.load(MODEL_PATH))\n",
    "else:\n",
    "    classifier.load_state_dict(torch.load(MODEL_PATH, map_location='cpu'))\n",
    "classifier.eval()"
   ]
  },
  {
   "cell_type": "markdown",
   "metadata": {},
   "source": [
    "# Visualize the output"
   ]
  },
  {
   "cell_type": "code",
   "execution_count": 49,
   "metadata": {},
   "outputs": [
    {
     "data": {
      "application/vnd.jupyter.widget-view+json": {
       "model_id": "cc303ee9a5fe422eb8627309847076af",
       "version_major": 2,
       "version_minor": 0
      },
      "text/plain": [
       "JVisualizer with 1 geometries"
      ]
     },
     "metadata": {},
     "output_type": "display_data"
    },
    {
     "data": {
      "image/png": "[encoded data removed]",
      "text/plain": [
       "<Figure size 432x288 with 1 Axes>"
      ]
     },
     "metadata": {
      "needs_background": "light"
     },
     "output_type": "display_data"
    },
    {
     "ename": "KeyboardInterrupt",
     "evalue": "Interrupted by user",
     "output_type": "error",
     "traceback": [
      "\u001b[0;31m---------------------------------------------------------------------------\u001b[0m",
      "\u001b[0;31mKeyboardInterrupt\u001b[0m                         Traceback (most recent call last)",
      "\u001b[0;32m<ipython-input-49-4ff1ca0abb8a>\u001b[0m in \u001b[0;36m<module>\u001b[0;34m\u001b[0m\n\u001b[1;32m     45\u001b[0m     \u001b[0mplt\u001b[0m\u001b[0;34m.\u001b[0m\u001b[0mshow\u001b[0m\u001b[0;34m(\u001b[0m\u001b[0;34m)\u001b[0m\u001b[0;34m\u001b[0m\u001b[0;34m\u001b[0m\u001b[0m\n\u001b[1;32m     46\u001b[0m \u001b[0;34m\u001b[0m\u001b[0m\n\u001b[0;32m---> 47\u001b[0;31m     input('Your object is a [{}] with probability {:0.3}. Press enter to continue!'\n\u001b[0m\u001b[1;32m     48\u001b[0m           .format(list(classes_dict.keys())[pred_class], pred_soft_cpu[pred_class]))\n",
      "\u001b[0;32m~/anaconda/envs/ai/lib/python3.8/site-packages/ipykernel/kernelbase.py\u001b[0m in \u001b[0;36mraw_input\u001b[0;34m(self, prompt)\u001b[0m\n\u001b[1;32m    855\u001b[0m                 \u001b[0;34m\"raw_input was called, but this frontend does not support input requests.\"\u001b[0m\u001b[0;34m\u001b[0m\u001b[0;34m\u001b[0m\u001b[0m\n\u001b[1;32m    856\u001b[0m             )\n\u001b[0;32m--> 857\u001b[0;31m         return self._input_request(str(prompt),\n\u001b[0m\u001b[1;32m    858\u001b[0m             \u001b[0mself\u001b[0m\u001b[0;34m.\u001b[0m\u001b[0m_parent_ident\u001b[0m\u001b[0;34m,\u001b[0m\u001b[0;34m\u001b[0m\u001b[0;34m\u001b[0m\u001b[0m\n\u001b[1;32m    859\u001b[0m             \u001b[0mself\u001b[0m\u001b[0;34m.\u001b[0m\u001b[0m_parent_header\u001b[0m\u001b[0;34m,\u001b[0m\u001b[0;34m\u001b[0m\u001b[0;34m\u001b[0m\u001b[0m\n",
      "\u001b[0;32m~/anaconda/envs/ai/lib/python3.8/site-packages/ipykernel/kernelbase.py\u001b[0m in \u001b[0;36m_input_request\u001b[0;34m(self, prompt, ident, parent, password)\u001b[0m\n\u001b[1;32m    899\u001b[0m             \u001b[0;32mexcept\u001b[0m \u001b[0mKeyboardInterrupt\u001b[0m\u001b[0;34m:\u001b[0m\u001b[0;34m\u001b[0m\u001b[0;34m\u001b[0m\u001b[0m\n\u001b[1;32m    900\u001b[0m                 \u001b[0;31m# re-raise KeyboardInterrupt, to truncate traceback\u001b[0m\u001b[0;34m\u001b[0m\u001b[0;34m\u001b[0m\u001b[0;34m\u001b[0m\u001b[0m\n\u001b[0;32m--> 901\u001b[0;31m                 \u001b[0;32mraise\u001b[0m \u001b[0mKeyboardInterrupt\u001b[0m\u001b[0;34m(\u001b[0m\u001b[0;34m\"Interrupted by user\"\u001b[0m\u001b[0;34m)\u001b[0m \u001b[0;32mfrom\u001b[0m \u001b[0;32mNone\u001b[0m\u001b[0;34m\u001b[0m\u001b[0;34m\u001b[0m\u001b[0m\n\u001b[0m\u001b[1;32m    902\u001b[0m             \u001b[0;32mexcept\u001b[0m \u001b[0mException\u001b[0m \u001b[0;32mas\u001b[0m \u001b[0me\u001b[0m\u001b[0;34m:\u001b[0m\u001b[0;34m\u001b[0m\u001b[0;34m\u001b[0m\u001b[0m\n\u001b[1;32m    903\u001b[0m                 \u001b[0mself\u001b[0m\u001b[0;34m.\u001b[0m\u001b[0mlog\u001b[0m\u001b[0;34m.\u001b[0m\u001b[0mwarning\u001b[0m\u001b[0;34m(\u001b[0m\u001b[0;34m\"Invalid Message:\"\u001b[0m\u001b[0;34m,\u001b[0m \u001b[0mexc_info\u001b[0m\u001b[0;34m=\u001b[0m\u001b[0;32mTrue\u001b[0m\u001b[0;34m)\u001b[0m\u001b[0;34m\u001b[0m\u001b[0;34m\u001b[0m\u001b[0m\n",
      "\u001b[0;31mKeyboardInterrupt\u001b[0m: Interrupted by user"
     ]
    }
   ],
   "source": [
    "# Three.js based visualizer\n",
    "visualizer = JVisualizer()\n",
    "\n",
    "test_dataset_seg = PartDataset(root=DATA_FOLDER, train=False, classification=False, npoints=NUM_POINTS)\n",
    "\n",
    "# Basic inference and visualization loop\n",
    "MAX_SAMPLES = 15\n",
    "for samples in range(MAX_SAMPLES):\n",
    "    random_index = randrange(len(test_dataset_seg))\n",
    "    print('[Sample {} / {}]'.format(random_index, len(test_dataset_seg)))\n",
    "    \n",
    "    # clean visualization\n",
    "    visualizer.clear()\n",
    "    clear_output()\n",
    "\n",
    "    # get next sample\n",
    "    point_set, seg = test_dataset_seg.__getitem__(random_index)\n",
    "\n",
    "    # create cloud for visualization\n",
    "    cloud = o3.geometry.PointCloud()\n",
    "    cloud.points = o3.utility.Vector3dVector(point_set)\n",
    "    cloud.colors = o3.utility.Vector3dVector(read_pointnet_colors(seg.numpy()))\n",
    "\n",
    "    # perform inference in GPU\n",
    "    points = Variable(point_set.unsqueeze(0))\n",
    "    points = points.transpose(2, 1)\n",
    "    if torch.cuda.is_available():\n",
    "        points = points.cuda()\n",
    "    pred_logsoft, _ = classifier(points)\n",
    "\n",
    "    # move data back to cpu for visualization\n",
    "    pred_logsoft_cpu = pred_logsoft.data.cpu().numpy().squeeze()\n",
    "    pred_soft_cpu = np.exp(pred_logsoft_cpu)\n",
    "    pred_class = np.argmax(pred_soft_cpu)\n",
    "\n",
    "    # let's visualize the input sample\n",
    "    visualizer.add_geometry(cloud)\n",
    "    visualizer.show()\n",
    "    \n",
    "    # Visualize probabilities\n",
    "    plt.xticks(list(classes_dict.values()), list(classes_dict.keys()),rotation=90)\n",
    "    plt.xlabel('Classes')\n",
    "    plt.ylabel('Probabilities')\n",
    "    plt.plot(list(classes_dict.values()), pred_soft_cpu)\n",
    "    plt.show()\n",
    "\n",
    "    input('Your object is a [{}] with probability {:0.3}. Press enter to continue!'\n",
    "          .format(list(classes_dict.keys())[pred_class], pred_soft_cpu[pred_class]))"
   ]
  },
  {
   "cell_type": "code",
   "execution_count": null,
   "metadata": {
    "collapsed": true
   },
   "outputs": [],
   "source": [
    "\n"
   ]
  }
 ],
 "metadata": {
  "kernelspec": {
   "display_name": "Python 3",
   "language": "python",
   "name": "python3"
  },
  "language_info": {
   "codemirror_mode": {
    "name": "ipython",
    "version": 3
   },
   "file_extension": ".py",
   "mimetype": "text/x-python",
   "name": "python",
   "nbconvert_exporter": "python",
   "pygments_lexer": "ipython3",
   "version": "3.5.6"
  },
  "widgets": {
   "state": {},
   "version": "1.1.2"
  }
 },
 "nbformat": 4,
 "nbformat_minor": 2
}
