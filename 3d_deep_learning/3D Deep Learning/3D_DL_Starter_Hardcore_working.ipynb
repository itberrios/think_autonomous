{
 "cells": [
  {
   "cell_type": "markdown",
   "metadata": {},
   "source": [
    "# 3D DEEP LEARNING - HARDCORE VERSION 💀\n",
    "\n",
    "Welcome to the 3D Deep Learning Workshop!\n",
    "\n",
    "In this workshop, you'll learn to:\n",
    "* Process a 3D Point Cloud Dataset\n",
    "* Visualize the Dataset in 3D\n",
    "* Build a 3D Deep Learning Model\n",
    "* Test on new data\n",
    "\n",
    "The code has been adapted from Intel's version for education purpose: https://github.com/intel-isl/Open3D-PointNet\n",
    "\n",
    "\n",
    "[![Open In Colab](https://colab.research.google.com/assets/colab-badge.svg)](https://colab.research.google.com/github/Jeremy26/3d-deep-learning/blob/main/3D%20Deep%20Learning/3D_DL_Starter_Hardcore.ipynb)"
   ]
  },
  {
   "cell_type": "markdown",
   "metadata": {},
   "source": [
    "## Imports\n",
    "We'll need a few things to get started:\n",
    "* Open3D: A Point Cloud Library; we'll use it for Visualization - We use version 12\n",
    "* PyTorch: A Deep Learning Library - We Use version 1.7\n",
    "* All the other usual libraries (numpy, matplotlib, random, ...)"
   ]
  },
  {
   "cell_type": "code",
   "execution_count": null,
   "metadata": {
    "collapsed": true
   },
   "outputs": [],
   "source": [
    "# Do this if you don't have Open3D\n",
    "# !pip install open3d==0.12.0 # Version 12\n",
    "# !pip install progressbar"
   ]
  },
  {
   "cell_type": "code",
   "execution_count": 1,
   "metadata": {},
   "outputs": [
    {
     "name": "stdout",
     "output_type": "stream",
     "text": [
      "Jupyter environment detected. Enabling Open3D WebVisualizer.\n",
      "[Open3D INFO] WebRTC GUI backend enabled.\n",
      "[Open3D INFO] WebRTCWindowSystem: HTTP handshake server disabled.\n",
      "0.16.0\n",
      "[Open3D INFO] Resetting default logger to print to terminal.\n",
      "1.11.0\n"
     ]
    }
   ],
   "source": [
    "# Usual Imports\n",
    "from __future__ import print_function\n",
    "import os\n",
    "import random\n",
    "from random import randrange\n",
    "from IPython.display import clear_output\n",
    "from PIL import Image\n",
    "import os.path\n",
    "import errno\n",
    "import json\n",
    "import codecs\n",
    "import numpy as np\n",
    "import progressbar\n",
    "import sys\n",
    "import matplotlib.pyplot as plt\n",
    "\n",
    "# Open3D Imports\n",
    "import open3d as o3\n",
    "print(o3.__version__)\n",
    "# from open3d import JVisualizer # Useful for Jupyter Notebook Visualization\n",
    "from open3d.web_visualizer import draw\n",
    "\n",
    "# PyTorch Imports\n",
    "import torch #Version 1.7.0 is the one used in the course\n",
    "print(torch.__version__)\n",
    "import torch.nn as nn\n",
    "import torch.nn.parallel\n",
    "import torch.optim as optim\n",
    "import torchvision.datasets as dset\n",
    "import torchvision.transforms as transforms\n",
    "import torchvision.utils as vutils\n",
    "from torchvision.io import read_image\n",
    "from torch.autograd import Variable\n",
    "import torch.nn.functional as F\n",
    "if torch.cuda.is_available():\n",
    "    import torch.backends.cudnn as cudnn"
   ]
  },
  {
   "cell_type": "markdown",
   "metadata": {},
   "source": [
    "# Dataset\n",
    "\n",
    "We are going to work with the ShapeNet Dataset.<p>\n",
    "It's coming from Standford and will allow us to do both Classification and Segmentation.<p>\n",
    "Here's an X-Wing from the DataSet:\n",
    "![XWING](https://www.shapenet.org/shapenet/screenshots/models/3dw/d/d/9/e/c/e07d4bc696c2bafe808edd44356/dd9ece07d4bc696c2bafe808edd44356/dd9ece07d4bc696c2bafe808edd44356-5.png)"
   ]
  },
  {
   "cell_type": "markdown",
   "metadata": {},
   "source": [
    "## Download the Dataset"
   ]
  },
  {
   "cell_type": "code",
   "execution_count": 2,
   "metadata": {
    "scrolled": false
   },
   "outputs": [],
   "source": [
    "#Run this only if you don't already have the Dataset\n",
    "# !wget -nv https://shapenet.cs.stanford.edu/ericyi/shapenetcore_partanno_segmentation_benchmark_v0.zip --no-check-certificate\n",
    "# !unzip shapenetcore_partanno_segmentation_benchmark_v0.zip\n",
    "# !rm shapenetcore_partanno_segmentation_benchmark_v0.zip"
   ]
  },
  {
   "cell_type": "code",
   "execution_count": 2,
   "metadata": {},
   "outputs": [],
   "source": [
    "# Avoid an SSL Error\n",
    "import ssl\n",
    "ssl._create_default_https_context = ssl._create_unverified_context"
   ]
  },
  {
   "cell_type": "markdown",
   "metadata": {},
   "source": [
    "## Preprocess the Dataset"
   ]
  },
  {
   "cell_type": "code",
   "execution_count": 3,
   "metadata": {},
   "outputs": [],
   "source": [
    "# General parameters\n",
    "NUM_POINTS = 10000\n",
    "DATA_FOLDER = 'shapenetcore_partanno_segmentation_benchmark_v0'"
   ]
  },
  {
   "cell_type": "code",
   "execution_count": 5,
   "metadata": {},
   "outputs": [],
   "source": [
    "class PartDataset(torch.utils.data.Dataset):\n",
    "    \"\"\"\n",
    "    This preprocesses the dataset.\n",
    "    TODO: This part has already been coded for you and is functional.\n",
    "    TODO: But there is still an assignment\n",
    "    TODO: Understand it well enough so you can add a visualization of the segmentation image and return it.\n",
    "    \"\"\"\n",
    "    def __init__(self, root, npoints=2500, classification=False, class_choice=None, train=True, image=False):\n",
    "        '''\n",
    "        Assign the parameters: number of points, root folder, category file, image, classification.\n",
    "        '''\n",
    "        self.npoints = npoints\n",
    "        self.root = root\n",
    "        self.catfile = os.path.join(self.root, 'synsetoffset2category.txt')\n",
    "        self.cat = {}\n",
    "        self.image = image\n",
    "        self.classification = classification\n",
    "        '''\n",
    "        Open the Category File and Map Folders to Categories\n",
    "        '''\n",
    "        with open(self.catfile, 'r') as f:\n",
    "            for line in f:\n",
    "                ls = line.strip().split()\n",
    "                self.cat[ls[0]] = ls[1]\n",
    "        #print(self.cat)\n",
    "        \n",
    "        '''\n",
    "        Select categories from the dataset. \n",
    "        ex: Call in parameters \"class_choice=[\"Airplane\"].\n",
    "        '''\n",
    "        if not class_choice is  None:\n",
    "            self.cat = {k:v for k,v in self.cat.items() if k in class_choice}\n",
    "        \n",
    "        '''\n",
    "        For every item in a specific category, assign the point, segmentation, and image.\n",
    "        Basically, read the dataset and store the labels.\n",
    "        '''\n",
    "        self.meta = {}        \n",
    "        for item in self.cat:\n",
    "            #print('category', item)\n",
    "            self.meta[item] = []\n",
    "            dir_point = os.path.join(self.root, self.cat[item], 'points')\n",
    "            dir_seg = os.path.join(self.root, self.cat[item], 'points_label')\n",
    "            # TODO: Modify below\n",
    "            dir_seg_img = os.path.join(self.root, self.cat[item], 'seg_img')\n",
    "            #print(dir_point, dir_seg)\n",
    "            \n",
    "\n",
    "            # get split based on whether we are training or testing (no validation?)\n",
    "            # we should try to use the .json files to get the splits\n",
    "            fns = sorted(os.listdir(dir_point))\n",
    "            if train:\n",
    "                fns = fns[:int(len(fns) * 0.9)]\n",
    "            else:\n",
    "                fns = fns[int(len(fns) * 0.9):]\n",
    "\n",
    "            #print(os.path.basename(fns))\n",
    "            for fn in fns: # FOR EVERY POINT CLOUD FILE\n",
    "                token = (os.path.splitext(os.path.basename(fn))[0])\n",
    "                # TODO:Modify below\n",
    "                self.meta[item].append((os.path.join(dir_point, token + '.pts'), \n",
    "                                        os.path.join(dir_seg, token + '.seg'),\n",
    "                                        os.path.join(dir_seg_img, token + '.png')))\n",
    "\n",
    "        '''\n",
    "        Create a Variable where you have (item, points, segmentation points, segmentation image)\n",
    "        '''\n",
    "        self.datapath = []\n",
    "        for item in self.cat:\n",
    "            for fn in self.meta[item]:\n",
    "                # TODO: Modify below\n",
    "                self.datapath.append((item, fn[0], fn[1], fn[2]))\n",
    "\n",
    "        self.classes = dict(zip(sorted(self.cat), range(len(self.cat))))\n",
    "        #print(self.classes)\n",
    "        \n",
    "        self.num_seg_classes = 0\n",
    "        if not self.classification: # Take the Segmentation Labels\n",
    "            for i in range(len(self.datapath)//50):\n",
    "                # TODO: Modify below\n",
    "                l = len(np.unique(np.loadtxt(self.datapath[i][2]).astype(np.uint8)))\n",
    "                if l > self.num_seg_classes:\n",
    "                    self.num_seg_classes = l\n",
    "        #print(self.num_seg_classes)\n",
    "\n",
    "    def __getitem__(self, index):\n",
    "        '''\n",
    "        This will be used to pick a specific element from the dataset.\n",
    "        self.datapath is the dataset.\n",
    "        Each element is under format \"class, points, segmentation labels, segmentation image\"\n",
    "        '''\n",
    "        # Get one Element\n",
    "        fn = self.datapath[index]\n",
    "        #print(fn)\n",
    "        \n",
    "        # get its Class\n",
    "        cls = self.classes[fn[0]]\n",
    "        #print(cls)\n",
    "        \n",
    "        # Read the Point Cloud\n",
    "        point_set = np.asarray(o3.io.read_point_cloud(fn[1], format='xyz').points,dtype=np.float32)\n",
    "        \n",
    "        # Read the Segmentation Data\n",
    "        seg = np.loadtxt(fn[2]).astype(np.int64)\n",
    "\n",
    "        #print(point_set.shape, seg.shape)\n",
    "        \n",
    "        # TODO: Read the Segmentation Image\n",
    "        # image = np.array(Image.open(fn[3]))\n",
    "        image = Image.open(fn[3])\n",
    "        # image = read_image(fn[3])\n",
    "\n",
    "        choice = np.random.choice(len(seg), self.npoints, replace=True)\n",
    "        \n",
    "        #resample\n",
    "        point_set = point_set[choice, :]        \n",
    "        seg = seg[choice]\n",
    "        point_set = torch.from_numpy(point_set)\n",
    "        seg = torch.from_numpy(seg)\n",
    "        cls = torch.from_numpy(np.array([cls]).astype(np.int64))\n",
    "        \n",
    "        if self.classification:\n",
    "            if self.image:\n",
    "                return point_set, cls, image\n",
    "            else:\n",
    "                return point_set, cls\n",
    "\n",
    "        else:\n",
    "            if self.image:\n",
    "                return point_set, seg, image\n",
    "            else:\n",
    "                return point_set, seg\n",
    "\n",
    "    def __len__(self):\n",
    "        return len(self.datapath)"
   ]
  },
  {
   "cell_type": "code",
   "execution_count": 6,
   "metadata": {
    "scrolled": true
   },
   "outputs": [],
   "source": [
    "# Problem ontology\n",
    "classes_dict = {'Airplane': 0, 'Bag': 1, 'Cap': 2, 'Car': 3, 'Chair': 4, \n",
    "                'Earphone': 5, 'Guitar': 6, 'Knife': 7, 'Lamp': 8, 'Laptop': 9,\n",
    "                'Motorbike': 10, 'Mug': 11, 'Pistol': 12, 'Rocket': 13, \n",
    "                'Skateboard': 14, 'Table': 15}"
   ]
  },
  {
   "cell_type": "markdown",
   "metadata": {},
   "source": [
    "## Visualize the Dataset with Open3D"
   ]
  },
  {
   "cell_type": "code",
   "execution_count": 7,
   "metadata": {},
   "outputs": [],
   "source": [
    "# Simple point cloud coloring mapping\n",
    "def read_pointnet_colors(seg_labels):\n",
    "    map_label_to_rgb = {\n",
    "        1: [0, 255, 0],\n",
    "        2: [0, 0, 255],\n",
    "        3: [255, 0, 0],\n",
    "        4: [255, 0, 255],  # purple\n",
    "        5: [0, 255, 255],  # cyan\n",
    "        6: [255, 255, 0],  # yellow\n",
    "    }\n",
    "    colors = np.array([map_label_to_rgb[label] for label in seg_labels])\n",
    "    return colors"
   ]
  },
  {
   "cell_type": "code",
   "execution_count": 8,
   "metadata": {},
   "outputs": [
    {
     "name": "stdout",
     "output_type": "stream",
     "text": [
      "Number of objects 15990\n",
      "----------\n",
      "Point Cloud Caracteristics:\n",
      "torch.Size([2500, 3]) torch.FloatTensor torch.Size([2500]) torch.LongTensor\n",
      "----------\n",
      "Point Cloud\n",
      "tensor([[-0.1838,  0.0154, -0.0220],\n",
      "        [-0.1736,  0.0585, -0.0775],\n",
      "        [-0.0274,  0.2065, -0.2047],\n",
      "        ...,\n",
      "        [ 0.2139, -0.2754,  0.2004],\n",
      "        [-0.1644,  0.2018, -0.1324],\n",
      "        [ 0.0922,  0.0064,  0.1641]])\n",
      "----------\n",
      "Label on Part Segmentation\n",
      "tensor([2, 1, 4,  ..., 3, 1, 2])\n",
      "----------\n",
      "Label on Classification\n",
      "Chair\n"
     ]
    },
    {
     "data": {
      "text/plain": [
       "<matplotlib.image.AxesImage at 0x15905686250>"
      ]
     },
     "execution_count": 8,
     "metadata": {},
     "output_type": "execute_result"
    },
    {
     "data": {
      "image/png": "[encoded data removed]",
      "text/plain": [
       "<Figure size 640x480 with 1 Axes>"
      ]
     },
     "metadata": {},
     "output_type": "display_data"
    }
   ],
   "source": [
    "# Load the ShapeNet Dataset\n",
    "# Default parameters for PartDataset: npoints = 2500, classification = False, class_choice = None, train = True, image=False\n",
    "\n",
    "#TODO: Get a Dataset for segmentation and with the image you got\n",
    "d = PartDataset(DATA_FOLDER, npoints=2500, classification=False, class_choice=None, train=True, image=True)\n",
    "print(\"Number of objects\",len(d))\n",
    "print('----------')\n",
    "\n",
    "idx = random.randint(0,len(d))\n",
    "ps, seg, img = d[idx]\n",
    "\n",
    "print(\"Point Cloud Caracteristics:\")\n",
    "print(ps.size(), ps.type(), seg.size(),seg.type())\n",
    "print('----------')\n",
    "print(\"Point Cloud\")\n",
    "print(ps)\n",
    "print('----------')\n",
    "print(\"Label on Part Segmentation\")\n",
    "print(seg)\n",
    "print('----------')\n",
    "\n",
    "# #TODO: Get a Dataset for Classification with the same index and without the image\n",
    "d = PartDataset(DATA_FOLDER, npoints=2500, classification=True, class_choice=None, train=True, image=False)\n",
    "ps2, class_ = d[idx]\n",
    "\n",
    "print(\"Label on Classification\")\n",
    "classes_dict_list = list(classes_dict)\n",
    "print(classes_dict_list[class_.item()])\n",
    "\n",
    "plt.imshow(np.asarray(img))"
   ]
  },
  {
   "cell_type": "code",
   "execution_count": 11,
   "metadata": {},
   "outputs": [
    {
     "data": {
      "application/vnd.jupyter.widget-view+json": {
       "model_id": "a022d9f48bdf4f849338e845b3ae3813",
       "version_major": 2,
       "version_minor": 0
      },
      "text/plain": [
       "WebVisualizer(window_uid='window_0')"
      ]
     },
     "metadata": {},
     "output_type": "display_data"
    }
   ],
   "source": [
    "test_cloud = o3.geometry.PointCloud()\n",
    "test_cloud.points = o3.utility.Vector3dVector(ps)\n",
    "test_cloud.colors = o3.utility.Vector3dVector(read_pointnet_colors(seg.numpy()))\n",
    "\n",
    "# test_vis.add_geometry(test_cloud)\n",
    "# test_vis.show()\n",
    "\n",
    "draw(test_cloud)"
   ]
  },
  {
   "cell_type": "markdown",
   "metadata": {},
   "source": [
    "# 3D Deep Learning Model: PointNet"
   ]
  },
  {
   "cell_type": "markdown",
   "metadata": {},
   "source": [
    "## Build the Model: PointNet\n",
    "\n",
    "**The model is PointNet.**<p>\n",
    "![PointNet](https://d3i71xaburhd42.cloudfront.net/c3b6a072288e134f5ae6afe3eebc970ffb65cb68/3-Figure2-1.png)\n",
    "\n",
    "It's coming from the paper: https://arxiv.org/pdf/1612.00593.pdf"
   ]
  },
  {
   "cell_type": "markdown",
   "metadata": {},
   "source": [
    "### Build the T-Net\n",
    "\n",
    "In this part, you need to re-implement the image you see above!<p>\n",
    "Watch solution if you're stuck!"
   ]
  },
  {
   "cell_type": "code",
   "execution_count": 47,
   "metadata": {
    "scrolled": true
   },
   "outputs": [
    {
     "name": "stdout",
     "output_type": "stream",
     "text": [
      "torch.Size([32, 3, 2500])\n",
      "torch.Size([32, 1024, 2500])\n",
      "torch.Size([32, 1024])\n",
      "torch.Size([32, 9])\n",
      "torch.Size([32, 3, 3])\n",
      "iden:  torch.Size([32, 3, 3])\n"
     ]
    }
   ],
   "source": [
    "class STN3d(nn.Module):\n",
    "    \"\"\"\n",
    "    T-Net Model. \n",
    "    STN stands for Spatial Transformer Network.\n",
    "    \"\"\"\n",
    "    def __init__(self, num_points=2500):\n",
    "        super(STN3d, self).__init__()\n",
    "        #TODO: Implement the functions you'll need\n",
    "\n",
    "        self.conv1 = nn.Conv1d(3, 64, kernel_size=1)\n",
    "        self.conv2 = nn.Conv1d(64, 128, kernel_size=1)\n",
    "        self.conv3 = nn.Conv1d(128, 1024, kernel_size=1)\n",
    "\n",
    "        self.linear1 = nn.Linear(1024, 512)\n",
    "        self.linear2 = nn.Linear(512, 256)\n",
    "        self.linear3 = nn.Linear(256, 9)\n",
    "\n",
    "        self.bn1 = nn.BatchNorm1d(64)\n",
    "        self.bn2 = nn.BatchNorm1d(128)\n",
    "        self.bn3 = nn.BatchNorm1d(1024)\n",
    "        self.bn4 = nn.BatchNorm1d(512)\n",
    "        self.bn5 = nn.BatchNorm1d(256)\n",
    "\n",
    "        self.max_pool = nn.MaxPool1d(kernel_size=num_points)\n",
    "        \n",
    "\n",
    "    def forward(self, x):\n",
    "        # TODO: Forward function\n",
    "        bs = x.shape[0]\n",
    "\n",
    "        # pass through shared MLP layers (conv1d)\n",
    "        x = self.bn1(F.relu(self.conv1(x)))\n",
    "        x = self.bn2(F.relu(self.conv2(x)))\n",
    "        x = self.bn3(F.relu(self.conv3(x)))\n",
    "\n",
    "        # max pool over num points\n",
    "        x = self.max_pool(x).squeeze()\n",
    "\n",
    "        # pass through MLP\n",
    "        x = self.bn4(F.relu(self.linear1(x)))\n",
    "        x = self.bn5(F.relu(self.linear2(x)))\n",
    "        x = self.linear3(x)\n",
    "\n",
    "        # initialize identity matrix\n",
    "        iden = torch.eye(3, requires_grad=True).repeat(bs, 1, 1)\n",
    "        if x.is_cuda:\n",
    "            iden = iden.cuda()\n",
    "\n",
    "        x = x.view(-1, 3, 3) + iden\n",
    "\n",
    "        return x\n",
    "\n",
    "sim_data = Variable(torch.rand(32,3,2500))\n",
    "trans = STN3d()\n",
    "out = trans(sim_data)\n",
    "# print(\"Output Size must be [32, 3, 3]\")\n",
    "# print('stn', out.size())\n"
   ]
  },
  {
   "cell_type": "markdown",
   "metadata": {},
   "source": [
    "### Build the Feature T-Net + MLP"
   ]
  },
  {
   "cell_type": "code",
   "execution_count": 27,
   "metadata": {
    "collapsed": true
   },
   "outputs": [],
   "source": [
    "class PointNetfeat(nn.Module):\n",
    "    \"\"\"\n",
    "    This is the T-Net for Feature Transform.\n",
    "    There is also MLP part 64,128,1024.\n",
    "    \"\"\"\n",
    "    def __init__(self, num_points=2500, global_feat=True):\n",
    "        super(PointNetfeat, self).__init__()\n",
    "        self.stn = STN3d(num_points=num_points)\n",
    "    \n",
    "    def forward(self, x):\n",
    "        # pass\n",
    "        x = self.stn(x)\n",
    "        return x, x"
   ]
  },
  {
   "cell_type": "code",
   "execution_count": 28,
   "metadata": {},
   "outputs": [
    {
     "name": "stdout",
     "output_type": "stream",
     "text": [
      "torch.Size([32, 3, 2500])\n",
      "torch.Size([32, 64, 2500])\n",
      "global feat torch.Size([32, 64, 2500])\n"
     ]
    }
   ],
   "source": [
    "pointfeat = PointNetfeat(global_feat=True)\n",
    "out, _ = pointfeat(sim_data)\n",
    "print('global feat', out.size())"
   ]
  },
  {
   "cell_type": "markdown",
   "metadata": {},
   "source": [
    "### Build the Classification Head"
   ]
  },
  {
   "cell_type": "code",
   "execution_count": 35,
   "metadata": {
    "collapsed": true
   },
   "outputs": [],
   "source": [
    "class PointNetCls(nn.Module):\n",
    "    \"\"\"\n",
    "    Network for Classification: 512, 256, K.\n",
    "    \"\"\"\n",
    "    def __init__(self, num_points = 2500, k = 2):\n",
    "        super(PointNetCls, self).__init__()\n",
    "        pass\n",
    "    def forward(self, x):\n",
    "        pass"
   ]
  },
  {
   "cell_type": "code",
   "execution_count": 36,
   "metadata": {},
   "outputs": [
    {
     "name": "stdout",
     "output_type": "stream",
     "text": [
      "global feat torch.Size([32, 1024])\n",
      "point feat torch.Size([32, 1088, 2500])\n",
      "class torch.Size([32, 5])\n"
     ]
    }
   ],
   "source": [
    "pointfeat = PointNetfeat(global_feat=True)\n",
    "out, _ = pointfeat(sim_data)\n",
    "print('global feat', out.size())\n",
    "\n",
    "pointfeat = PointNetfeat(global_feat=False)\n",
    "out, _ = pointfeat(sim_data)\n",
    "print('point feat', out.size())\n",
    "\n",
    "cls = PointNetCls(k = 5)\n",
    "out, _ = cls(sim_data)\n",
    "print('class', out.size())"
   ]
  },
  {
   "cell_type": "markdown",
   "metadata": {},
   "source": [
    "### Build the Segmentation Head"
   ]
  },
  {
   "cell_type": "code",
   "execution_count": 37,
   "metadata": {
    "collapsed": true
   },
   "outputs": [],
   "source": [
    "class PointNetDenseCls(nn.Module):\n",
    "    \"\"\"\n",
    "    Network for Segmentation\n",
    "    \"\"\"\n",
    "    def __init__(self, num_points = 2500, k = 2):\n",
    "        super(PointNetDenseCls, self).__init__()\n",
    "        pass\n",
    "\n",
    "    def forward(self, x):\n",
    "        pass"
   ]
  },
  {
   "cell_type": "code",
   "execution_count": null,
   "metadata": {
    "collapsed": true
   },
   "outputs": [],
   "source": [
    "seg = PointNetDenseCls(k = 3)\n",
    "print(seg)\n",
    "out, _ = seg(sim_data)\n",
    "print('seg', out.size())"
   ]
  },
  {
   "cell_type": "markdown",
   "metadata": {},
   "source": [
    "## Train the Model for classification and segmentation"
   ]
  },
  {
   "cell_type": "code",
   "execution_count": 40,
   "metadata": {
    "collapsed": true
   },
   "outputs": [],
   "source": [
    "# TODO: Define Hyperparameters\n",
    "batchSize = \n",
    "num_points = \n",
    "workers =\n",
    "nepoch = \n",
    "outf=\"cls\" #Out folder, saving each epoch"
   ]
  },
  {
   "cell_type": "code",
   "execution_count": null,
   "metadata": {
    "collapsed": true
   },
   "outputs": [],
   "source": [
    "# DATASET & DATA LOADER\n",
    "\n",
    "# Train Dataset & DataLoader\n",
    "dataset = \n",
    "dataloader = \n",
    "\n",
    "# Test Dataset & DataLoader\n",
    "test_dataset = \n",
    "testdataloader = \n",
    "\n",
    "blue = lambda x:'\\033[94m' + x + '\\033[0m'\n",
    "\n",
    "# CALL THE MODEL\n",
    "num_classes = len(classes_dict.items())\n",
    "\n",
    "classifier = # TODO: Create a classifier\n",
    "\n",
    "optimizer = #TODO: DEFINE OPTIMIZERS\n",
    "if torch.cuda.is_available():\n",
    "    classifier.cuda()\n",
    "\n",
    "num_batch = # What is the number of batch?\n",
    "\n",
    "# TRAIN ON EPOCHS\n",
    "for epoch in range(nepoch):\n",
    "    for i, data in enumerate(dataloader, 0):\n",
    "        \"\"\"\n",
    "        Get Points & Classification Label\n",
    "        \"\"\"\n",
    "        points = # Get the points\n",
    "        \n",
    "        if torch.cuda.is_available():\n",
    "            points, target = points.cuda(), target.cuda()\n",
    "        \n",
    "        # TODO: Zero Grad\n",
    "        \n",
    "        # TODO: Train\n",
    "        classifier = \n",
    "        pred, _ = \n",
    "        # TODO: Define NLL Loss and Backpropagate\n",
    "        loss = \n",
    "\n",
    "        pred_choice = # get the prediction\n",
    "        correct = pred_choice.eq(target.data).cpu().sum()\n",
    "        print('[%d: %d/%d] train loss: %f accuracy: %f' %(epoch, i, num_batch, loss.item(),correct.item() / float(batchSize)))\n",
    "\n",
    "        if i % 10 == 0:\n",
    "            j, data = next(enumerate(testdataloader, 0))\n",
    "            points, target = data\n",
    "            points, target = Variable(points), Variable(target[:,0])\n",
    "            points = points.transpose(2,1)\n",
    "            if torch.cuda.is_available():\n",
    "                points, target = points.cuda(), target.cuda()\n",
    "            classifier = classifier.eval()\n",
    "            pred, _ = classifier(points)\n",
    "            loss = F.nll_loss(pred, target)\n",
    "            pred_choice = pred.data.max(1)[1]\n",
    "            correct = pred_choice.eq(target.data).cpu().sum()\n",
    "            print('[%d: %d/%d] %s loss: %f accuracy: %f' %(epoch, i, num_batch, blue('test'), loss.item(), correct.item()/float(batchSize)))\n",
    "\n",
    "    torch.save(classifier.state_dict(), '%s/cls_model_%d.pth' % (outf, epoch))"
   ]
  },
  {
   "cell_type": "code",
   "execution_count": 45,
   "metadata": {},
   "outputs": [
    {
     "data": {
      "text/plain": [
       "PointNetCls(\n",
       "  (feat): PointNetfeat(\n",
       "    (stn): STN3d(\n",
       "      (conv1): Conv1d(3, 64, kernel_size=(1,), stride=(1,))\n",
       "      (conv2): Conv1d(64, 128, kernel_size=(1,), stride=(1,))\n",
       "      (conv3): Conv1d(128, 1024, kernel_size=(1,), stride=(1,))\n",
       "      (mp1): MaxPool1d(kernel_size=10000, stride=10000, padding=0, dilation=1, ceil_mode=False)\n",
       "      (fc1): Linear(in_features=1024, out_features=512, bias=True)\n",
       "      (fc2): Linear(in_features=512, out_features=256, bias=True)\n",
       "      (fc3): Linear(in_features=256, out_features=9, bias=True)\n",
       "      (relu): ReLU()\n",
       "      (bn1): BatchNorm1d(64, eps=1e-05, momentum=0.1, affine=True, track_running_stats=True)\n",
       "      (bn2): BatchNorm1d(128, eps=1e-05, momentum=0.1, affine=True, track_running_stats=True)\n",
       "      (bn3): BatchNorm1d(1024, eps=1e-05, momentum=0.1, affine=True, track_running_stats=True)\n",
       "      (bn4): BatchNorm1d(512, eps=1e-05, momentum=0.1, affine=True, track_running_stats=True)\n",
       "      (bn5): BatchNorm1d(256, eps=1e-05, momentum=0.1, affine=True, track_running_stats=True)\n",
       "    )\n",
       "    (conv1): Conv1d(3, 64, kernel_size=(1,), stride=(1,))\n",
       "    (conv2): Conv1d(64, 128, kernel_size=(1,), stride=(1,))\n",
       "    (conv3): Conv1d(128, 1024, kernel_size=(1,), stride=(1,))\n",
       "    (bn1): BatchNorm1d(64, eps=1e-05, momentum=0.1, affine=True, track_running_stats=True)\n",
       "    (bn2): BatchNorm1d(128, eps=1e-05, momentum=0.1, affine=True, track_running_stats=True)\n",
       "    (bn3): BatchNorm1d(1024, eps=1e-05, momentum=0.1, affine=True, track_running_stats=True)\n",
       "    (mp1): MaxPool1d(kernel_size=10000, stride=10000, padding=0, dilation=1, ceil_mode=False)\n",
       "  )\n",
       "  (fc1): Linear(in_features=1024, out_features=512, bias=True)\n",
       "  (fc2): Linear(in_features=512, out_features=256, bias=True)\n",
       "  (fc3): Linear(in_features=256, out_features=16, bias=True)\n",
       "  (bn1): BatchNorm1d(512, eps=1e-05, momentum=0.1, affine=True, track_running_stats=True)\n",
       "  (bn2): BatchNorm1d(256, eps=1e-05, momentum=0.1, affine=True, track_running_stats=True)\n",
       "  (relu): ReLU()\n",
       ")"
      ]
     },
     "execution_count": 45,
     "metadata": {},
     "output_type": "execute_result"
    }
   ],
   "source": [
    "NUM_POINTS = \n",
    "MODEL_PATH = \n",
    "\n",
    "classifier = #todo: # Create the classification network from pre-trained model\n",
    "\n",
    "if torch.cuda.is_available():\n",
    "    classifier.cuda()\n",
    "    classifier.load_state_dict(torch.load(MODEL_PATH))\n",
    "else:\n",
    "    classifier.load_state_dict(torch.load(MODEL_PATH, map_location='cpu'))\n",
    "classifier.eval()"
   ]
  },
  {
   "cell_type": "markdown",
   "metadata": {},
   "source": [
    "# Visualize the output"
   ]
  },
  {
   "cell_type": "code",
   "execution_count": 49,
   "metadata": {},
   "outputs": [
    {
     "data": {
      "application/vnd.jupyter.widget-view+json": {
       "model_id": "cc303ee9a5fe422eb8627309847076af",
       "version_major": 2,
       "version_minor": 0
      },
      "text/plain": [
       "JVisualizer with 1 geometries"
      ]
     },
     "metadata": {},
     "output_type": "display_data"
    },
    {
     "data": {
      "image/png": "[encoded data removed]",
      "text/plain": [
       "<Figure size 432x288 with 1 Axes>"
      ]
     },
     "metadata": {
      "needs_background": "light"
     },
     "output_type": "display_data"
    },
    {
     "ename": "KeyboardInterrupt",
     "evalue": "Interrupted by user",
     "output_type": "error",
     "traceback": [
      "\u001b[0;31m---------------------------------------------------------------------------\u001b[0m",
      "\u001b[0;31mKeyboardInterrupt\u001b[0m                         Traceback (most recent call last)",
      "\u001b[0;32m<ipython-input-49-4ff1ca0abb8a>\u001b[0m in \u001b[0;36m<module>\u001b[0;34m\u001b[0m\n\u001b[1;32m     45\u001b[0m     \u001b[0mplt\u001b[0m\u001b[0;34m.\u001b[0m\u001b[0mshow\u001b[0m\u001b[0;34m(\u001b[0m\u001b[0;34m)\u001b[0m\u001b[0;34m\u001b[0m\u001b[0;34m\u001b[0m\u001b[0m\n\u001b[1;32m     46\u001b[0m \u001b[0;34m\u001b[0m\u001b[0m\n\u001b[0;32m---> 47\u001b[0;31m     input('Your object is a [{}] with probability {:0.3}. Press enter to continue!'\n\u001b[0m\u001b[1;32m     48\u001b[0m           .format(list(classes_dict.keys())[pred_class], pred_soft_cpu[pred_class]))\n",
      "\u001b[0;32m~/anaconda/envs/ai/lib/python3.8/site-packages/ipykernel/kernelbase.py\u001b[0m in \u001b[0;36mraw_input\u001b[0;34m(self, prompt)\u001b[0m\n\u001b[1;32m    855\u001b[0m                 \u001b[0;34m\"raw_input was called, but this frontend does not support input requests.\"\u001b[0m\u001b[0;34m\u001b[0m\u001b[0;34m\u001b[0m\u001b[0m\n\u001b[1;32m    856\u001b[0m             )\n\u001b[0;32m--> 857\u001b[0;31m         return self._input_request(str(prompt),\n\u001b[0m\u001b[1;32m    858\u001b[0m             \u001b[0mself\u001b[0m\u001b[0;34m.\u001b[0m\u001b[0m_parent_ident\u001b[0m\u001b[0;34m,\u001b[0m\u001b[0;34m\u001b[0m\u001b[0;34m\u001b[0m\u001b[0m\n\u001b[1;32m    859\u001b[0m             \u001b[0mself\u001b[0m\u001b[0;34m.\u001b[0m\u001b[0m_parent_header\u001b[0m\u001b[0;34m,\u001b[0m\u001b[0;34m\u001b[0m\u001b[0;34m\u001b[0m\u001b[0m\n",
      "\u001b[0;32m~/anaconda/envs/ai/lib/python3.8/site-packages/ipykernel/kernelbase.py\u001b[0m in \u001b[0;36m_input_request\u001b[0;34m(self, prompt, ident, parent, password)\u001b[0m\n\u001b[1;32m    899\u001b[0m             \u001b[0;32mexcept\u001b[0m \u001b[0mKeyboardInterrupt\u001b[0m\u001b[0;34m:\u001b[0m\u001b[0;34m\u001b[0m\u001b[0;34m\u001b[0m\u001b[0m\n\u001b[1;32m    900\u001b[0m                 \u001b[0;31m# re-raise KeyboardInterrupt, to truncate traceback\u001b[0m\u001b[0;34m\u001b[0m\u001b[0;34m\u001b[0m\u001b[0;34m\u001b[0m\u001b[0m\n\u001b[0;32m--> 901\u001b[0;31m                 \u001b[0;32mraise\u001b[0m \u001b[0mKeyboardInterrupt\u001b[0m\u001b[0;34m(\u001b[0m\u001b[0;34m\"Interrupted by user\"\u001b[0m\u001b[0;34m)\u001b[0m \u001b[0;32mfrom\u001b[0m \u001b[0;32mNone\u001b[0m\u001b[0;34m\u001b[0m\u001b[0;34m\u001b[0m\u001b[0m\n\u001b[0m\u001b[1;32m    902\u001b[0m             \u001b[0;32mexcept\u001b[0m \u001b[0mException\u001b[0m \u001b[0;32mas\u001b[0m \u001b[0me\u001b[0m\u001b[0;34m:\u001b[0m\u001b[0;34m\u001b[0m\u001b[0;34m\u001b[0m\u001b[0m\n\u001b[1;32m    903\u001b[0m                 \u001b[0mself\u001b[0m\u001b[0;34m.\u001b[0m\u001b[0mlog\u001b[0m\u001b[0;34m.\u001b[0m\u001b[0mwarning\u001b[0m\u001b[0;34m(\u001b[0m\u001b[0;34m\"Invalid Message:\"\u001b[0m\u001b[0;34m,\u001b[0m \u001b[0mexc_info\u001b[0m\u001b[0;34m=\u001b[0m\u001b[0;32mTrue\u001b[0m\u001b[0;34m)\u001b[0m\u001b[0;34m\u001b[0m\u001b[0;34m\u001b[0m\u001b[0m\n",
      "\u001b[0;31mKeyboardInterrupt\u001b[0m: Interrupted by user"
     ]
    }
   ],
   "source": [
    "# Three.js based visualizer\n",
    "visualizer = JVisualizer()\n",
    "\n",
    "test_dataset_seg = #Get a dataset for testing\n",
    "\n",
    "# Basic inference and visualization loop\n",
    "MAX_SAMPLES = 15\n",
    "\n",
    "for samples in range(MAX_SAMPLES):\n",
    "    random_index = randrange(len(test_dataset_seg))\n",
    "    print('[Sample {} / {}]'.format(random_index, len(test_dataset_seg)))\n",
    "    \n",
    "    # clean visualization\n",
    "    visualizer.clear()\n",
    "    clear_output()\n",
    "\n",
    "    # get next sample\n",
    "    point_set, seg = test_dataset_seg.__getitem__(random_index)\n",
    "\n",
    "    # create cloud for visualization\n",
    "    cloud = o3.geometry.PointCloud()\n",
    "    cloud.points = o3.utility.Vector3dVector(point_set)\n",
    "    cloud.colors = o3.utility.Vector3dVector(read_pointnet_colors(seg.numpy()))\n",
    "\n",
    "    # perform inference in GPU\n",
    "    points = Variable(point_set.unsqueeze(0))\n",
    "    points = points.transpose(2, 1)\n",
    "    if torch.cuda.is_available():\n",
    "        points = points.cuda()\n",
    "    pred_logsoft, _ = classifier(points)\n",
    "\n",
    "    # move data back to cpu for visualization\n",
    "    pred_logsoft_cpu = pred_logsoft.data.cpu().numpy().squeeze()\n",
    "    pred_soft_cpu = np.exp(pred_logsoft_cpu)\n",
    "    pred_class = np.argmax(pred_soft_cpu)\n",
    "\n",
    "    # let's visualize the input sample\n",
    "    visualizer.add_geometry(cloud)\n",
    "    visualizer.show()\n",
    "    \n",
    "    # Visualize probabilities\n",
    "    plt.xticks(list(classes_dict.values()), list(classes_dict.keys()),rotation=90)\n",
    "    plt.xlabel('Classes')\n",
    "    plt.ylabel('Probabilities')\n",
    "    plt.plot(list(classes_dict.values()), pred_soft_cpu)\n",
    "    plt.show()\n",
    "\n",
    "    input('Your object is a [{}] with probability {:0.3}. Press enter to continue!'\n",
    "          .format(list(classes_dict.keys())[pred_class], pred_soft_cpu[pred_class]))"
   ]
  },
  {
   "cell_type": "code",
   "execution_count": null,
   "metadata": {
    "collapsed": true
   },
   "outputs": [],
   "source": [
    "\n"
   ]
  }
 ],
 "metadata": {
  "kernelspec": {
   "display_name": "Python 3 (ipykernel)",
   "language": "python",
   "name": "python3"
  },
  "language_info": {
   "codemirror_mode": {
    "name": "ipython",
    "version": 3
   },
   "file_extension": ".py",
   "mimetype": "text/x-python",
   "name": "python",
   "nbconvert_exporter": "python",
   "pygments_lexer": "ipython3",
   "version": "3.8.12"
  },
  "vscode": {
   "interpreter": {
    "hash": "6c3515861ec4313dacaa20b0eec5bf326e6557b6589b7b6a4fe3c8baa566747d"
   }
  },
  "widgets": {
   "state": {},
   "version": "1.1.2"
  }
 },
 "nbformat": 4,
 "nbformat_minor": 2
}
