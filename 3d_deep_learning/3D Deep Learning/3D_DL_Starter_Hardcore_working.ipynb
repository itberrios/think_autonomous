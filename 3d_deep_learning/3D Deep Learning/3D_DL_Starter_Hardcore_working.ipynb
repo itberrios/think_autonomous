{
 "cells": [
  {
   "cell_type": "markdown",
   "metadata": {},
   "source": [
    "# 3D DEEP LEARNING - HARDCORE VERSION 💀\n",
    "\n",
    "Welcome to the 3D Deep Learning Workshop!\n",
    "\n",
    "In this workshop, you'll learn to:\n",
    "* Process a 3D Point Cloud Dataset\n",
    "* Visualize the Dataset in 3D\n",
    "* Build a 3D Deep Learning Model\n",
    "* Test on new data\n",
    "\n",
    "The code has been adapted from Intel's version for education purpose: https://github.com/intel-isl/Open3D-PointNet\n",
    "\n",
    "\n",
    "[![Open In Colab](https://colab.research.google.com/assets/colab-badge.svg)](https://colab.research.google.com/github/Jeremy26/3d-deep-learning/blob/main/3D%20Deep%20Learning/3D_DL_Starter_Hardcore.ipynb)"
   ]
  },
  {
   "cell_type": "markdown",
   "metadata": {},
   "source": [
    "## Imports\n",
    "We'll need a few things to get started:\n",
    "* Open3D: A Point Cloud Library; we'll use it for Visualization - We use version 12\n",
    "* PyTorch: A Deep Learning Library - We Use version 1.7\n",
    "* All the other usual libraries (numpy, matplotlib, random, ...)"
   ]
  },
  {
   "cell_type": "code",
   "execution_count": null,
   "metadata": {
    "collapsed": true
   },
   "outputs": [],
   "source": [
    "# Do this if you don't have Open3D\n",
    "# !pip install open3d==0.12.0 # Version 12\n",
    "# !pip install progressbar"
   ]
  },
  {
   "cell_type": "code",
   "execution_count": 1,
   "metadata": {},
   "outputs": [
    {
     "name": "stdout",
     "output_type": "stream",
     "text": [
      "Jupyter environment detected. Enabling Open3D WebVisualizer.\n",
      "[Open3D INFO] WebRTC GUI backend enabled.\n",
      "[Open3D INFO] WebRTCWindowSystem: HTTP handshake server disabled.\n",
      "0.16.0\n",
      "[Open3D INFO] Resetting default logger to print to terminal.\n",
      "1.11.0\n"
     ]
    }
   ],
   "source": [
    "# Usual Imports\n",
    "from __future__ import print_function\n",
    "import os\n",
    "import random\n",
    "from random import randrange\n",
    "from IPython.display import clear_output\n",
    "from PIL import Image\n",
    "import os.path\n",
    "import errno\n",
    "import json\n",
    "import codecs\n",
    "import numpy as np\n",
    "import progressbar\n",
    "import sys\n",
    "import matplotlib.pyplot as plt\n",
    "\n",
    "# Open3D Imports\n",
    "import open3d as o3\n",
    "print(o3.__version__)\n",
    "# from open3d import JVisualizer # Useful for Jupyter Notebook Visualization\n",
    "from open3d.web_visualizer import draw\n",
    "\n",
    "# PyTorch Imports\n",
    "import torch #Version 1.7.0 is the one used in the course\n",
    "print(torch.__version__)\n",
    "import torch.nn as nn\n",
    "import torch.nn.parallel\n",
    "import torch.optim as optim\n",
    "import torchvision.datasets as dset\n",
    "import torchvision.transforms as transforms\n",
    "import torchvision.utils as vutils\n",
    "from torchvision.io import read_image\n",
    "from torch.autograd import Variable\n",
    "import torch.nn.functional as F\n",
    "if torch.cuda.is_available():\n",
    "    import torch.backends.cudnn as cudnn"
   ]
  },
  {
   "cell_type": "markdown",
   "metadata": {},
   "source": [
    "# Dataset\n",
    "\n",
    "We are going to work with the ShapeNet Dataset.<p>\n",
    "It's coming from Standford and will allow us to do both Classification and Segmentation.<p>\n",
    "Here's an X-Wing from the DataSet:\n",
    "![XWING](https://www.shapenet.org/shapenet/screenshots/models/3dw/d/d/9/e/c/e07d4bc696c2bafe808edd44356/dd9ece07d4bc696c2bafe808edd44356/dd9ece07d4bc696c2bafe808edd44356-5.png)"
   ]
  },
  {
   "cell_type": "markdown",
   "metadata": {},
   "source": [
    "## Download the Dataset"
   ]
  },
  {
   "cell_type": "code",
   "execution_count": 2,
   "metadata": {
    "scrolled": false
   },
   "outputs": [],
   "source": [
    "#Run this only if you don't already have the Dataset\n",
    "# !wget -nv https://shapenet.cs.stanford.edu/ericyi/shapenetcore_partanno_segmentation_benchmark_v0.zip --no-check-certificate\n",
    "# !unzip shapenetcore_partanno_segmentation_benchmark_v0.zip\n",
    "# !rm shapenetcore_partanno_segmentation_benchmark_v0.zip"
   ]
  },
  {
   "cell_type": "code",
   "execution_count": 3,
   "metadata": {},
   "outputs": [],
   "source": [
    "# Avoid an SSL Error\n",
    "import ssl\n",
    "ssl._create_default_https_context = ssl._create_unverified_context"
   ]
  },
  {
   "cell_type": "markdown",
   "metadata": {},
   "source": [
    "## Preprocess the Dataset"
   ]
  },
  {
   "cell_type": "code",
   "execution_count": 4,
   "metadata": {},
   "outputs": [],
   "source": [
    "# General parameters\n",
    "NUM_POINTS = 10000\n",
    "DATA_FOLDER = 'shapenetcore_partanno_segmentation_benchmark_v0'"
   ]
  },
  {
   "cell_type": "code",
   "execution_count": 75,
   "metadata": {},
   "outputs": [],
   "source": [
    "class PartDataset(torch.utils.data.Dataset):\n",
    "    \"\"\"\n",
    "    This preprocesses the dataset.\n",
    "    TODO: This part has already been coded for you and is functional.\n",
    "    TODO: But there is still an assignment\n",
    "    TODO: Understand it well enough so you can add a visualization of the segmentation image and return it.\n",
    "    \"\"\"\n",
    "    def __init__(self, root, npoints=2500, classification=False, class_choice=None, train=True, image=False):\n",
    "        '''\n",
    "        Assign the parameters: number of points, root folder, category file, image, classification.\n",
    "        '''\n",
    "        self.npoints = npoints\n",
    "        self.root = root\n",
    "        self.catfile = os.path.join(self.root, 'synsetoffset2category.txt')\n",
    "        self.cat = {}\n",
    "        self.image = image\n",
    "        self.classification = classification\n",
    "        self.train = train\n",
    "        '''\n",
    "        Open the Category File and Map Folders to Categories\n",
    "        '''\n",
    "        with open(self.catfile, 'r') as f:\n",
    "            for line in f:\n",
    "                ls = line.strip().split()\n",
    "                self.cat[ls[0]] = ls[1]\n",
    "        #print(self.cat)\n",
    "        \n",
    "        '''\n",
    "        Select categories from the dataset. \n",
    "        ex: Call in parameters \"class_choice=[\"Airplane\"].\n",
    "        '''\n",
    "        if not class_choice is  None:\n",
    "            self.cat = {k:v for k,v in self.cat.items() if k in class_choice}\n",
    "        \n",
    "        '''\n",
    "        For every item in a specific category, assign the point, segmentation, and image.\n",
    "        Basically, read the dataset and store the labels.\n",
    "        '''\n",
    "        self.meta = {}        \n",
    "        for item in self.cat:\n",
    "            #print('category', item)\n",
    "            self.meta[item] = []\n",
    "            dir_point = os.path.join(self.root, self.cat[item], 'points')\n",
    "            dir_seg = os.path.join(self.root, self.cat[item], 'points_label')\n",
    "            # TODO: Modify below\n",
    "            dir_seg_img = os.path.join(self.root, self.cat[item], 'seg_img')\n",
    "            #print(dir_point, dir_seg)\n",
    "            \n",
    "\n",
    "            # get split based on whether we are training or testing (no validation?)\n",
    "            # we should try to use the .json files to get the splits\n",
    "            fns = sorted(os.listdir(dir_point))\n",
    "            if train:\n",
    "                fns = fns[:int(len(fns) * 0.9)]\n",
    "            else:\n",
    "                fns = fns[int(len(fns) * 0.9):]\n",
    "\n",
    "            #print(os.path.basename(fns))\n",
    "            for fn in fns: # FOR EVERY POINT CLOUD FILE\n",
    "                token = (os.path.splitext(os.path.basename(fn))[0])\n",
    "                # TODO:Modify below\n",
    "                self.meta[item].append((os.path.join(dir_point, token + '.pts'), \n",
    "                                        os.path.join(dir_seg, token + '.seg'),\n",
    "                                        os.path.join(dir_seg_img, token + '.png')))\n",
    "\n",
    "        '''\n",
    "        Create a Variable where you have (item, points, segmentation points, segmentation image)\n",
    "        '''\n",
    "        self.datapath = []\n",
    "        for item in self.cat:\n",
    "            for fn in self.meta[item]:\n",
    "                # TODO: Modify below\n",
    "                self.datapath.append((item, fn[0], fn[1], fn[2]))\n",
    "\n",
    "        self.classes = dict(zip(sorted(self.cat), range(len(self.cat))))\n",
    "        #print(self.classes)\n",
    "        \n",
    "        self.num_seg_classes = 0\n",
    "        if not self.classification: # Take the Segmentation Labels\n",
    "            for i in range(len(self.datapath)//50):\n",
    "                # TODO: Modify below\n",
    "                l = len(np.unique(np.loadtxt(self.datapath[i][2]).astype(np.uint8)))\n",
    "                if l > self.num_seg_classes:\n",
    "                    self.num_seg_classes = l\n",
    "        #print(self.num_seg_classes)\n",
    "\n",
    "    def __getitem__(self, index):\n",
    "        '''\n",
    "        This will be used to pick a specific element from the dataset.\n",
    "        self.datapath is the dataset.\n",
    "        Each element is under format \"class, points, segmentation labels, segmentation image\"\n",
    "        '''\n",
    "        # Get one Element\n",
    "        fn = self.datapath[index]\n",
    "        #print(fn)\n",
    "        \n",
    "        # get its Class\n",
    "        cls = self.classes[fn[0]]\n",
    "        #print(cls)\n",
    "        \n",
    "        # Read the Point Cloud\n",
    "        point_set = np.asarray(o3.io.read_point_cloud(fn[1], format='xyz').points,dtype=np.float32)\n",
    "        \n",
    "        # Read the Segmentation Data\n",
    "        seg = np.loadtxt(fn[2]).astype(np.int64)\n",
    "\n",
    "        #print(point_set.shape, seg.shape)\n",
    "        \n",
    "        # TODO: Read the Segmentation Image\n",
    "        # image = np.array(Image.open(fn[3]))\n",
    "        image = Image.open(fn[3])\n",
    "        # image = read_image(fn[3])\n",
    "\n",
    "        choice = np.random.choice(len(seg), self.npoints, replace=True)\n",
    "        \n",
    "        #resample\n",
    "        point_set = point_set[choice, :]        \n",
    "        seg = seg[choice]\n",
    "        point_set = torch.from_numpy(point_set)\n",
    "        seg = torch.from_numpy(seg)\n",
    "        cls = torch.from_numpy(np.array([cls]).astype(np.int64))\n",
    "        \n",
    "        # add Gaussian noise to point set if training mode is active\n",
    "        if self.train:\n",
    "            # add N(0, 1/100) noise\n",
    "            point_set += torch.randn(point_set.shape)/100\n",
    "\n",
    "        # consider adding random rotations to the object \n",
    "        # construct a randomly parameterized 3x3 rotation matrix\n",
    "        \n",
    "        \n",
    "        if self.classification:\n",
    "            if self.image:\n",
    "                return point_set, cls, image\n",
    "            else:\n",
    "                return point_set, cls\n",
    "\n",
    "        else:\n",
    "            if self.image:\n",
    "                return point_set, seg, image\n",
    "            else:\n",
    "                return point_set, seg\n",
    "\n",
    "    def __len__(self):\n",
    "        return len(self.datapath)"
   ]
  },
  {
   "cell_type": "code",
   "execution_count": 76,
   "metadata": {
    "scrolled": true
   },
   "outputs": [],
   "source": [
    "# Problem ontology\n",
    "classes_dict = {'Airplane': 0, 'Bag': 1, 'Cap': 2, 'Car': 3, 'Chair': 4, \n",
    "                'Earphone': 5, 'Guitar': 6, 'Knife': 7, 'Lamp': 8, 'Laptop': 9,\n",
    "                'Motorbike': 10, 'Mug': 11, 'Pistol': 12, 'Rocket': 13, \n",
    "                'Skateboard': 14, 'Table': 15}"
   ]
  },
  {
   "cell_type": "markdown",
   "metadata": {},
   "source": [
    "## Visualize the Dataset with Open3D"
   ]
  },
  {
   "cell_type": "code",
   "execution_count": 77,
   "metadata": {},
   "outputs": [],
   "source": [
    "# Simple point cloud coloring mapping\n",
    "def read_pointnet_colors(seg_labels):\n",
    "    map_label_to_rgb = {\n",
    "        1: [0, 255, 0],\n",
    "        2: [0, 0, 255],\n",
    "        3: [255, 0, 0],\n",
    "        4: [255, 0, 255],  # purple\n",
    "        5: [0, 255, 255],  # cyan\n",
    "        6: [255, 255, 0],  # yellow\n",
    "    }\n",
    "    colors = np.array([map_label_to_rgb[label] for label in seg_labels])\n",
    "    return colors"
   ]
  },
  {
   "cell_type": "code",
   "execution_count": 78,
   "metadata": {},
   "outputs": [
    {
     "name": "stdout",
     "output_type": "stream",
     "text": [
      "Number of objects 15990\n",
      "----------\n",
      "Point Cloud Caracteristics:\n",
      "torch.Size([2500, 3]) torch.FloatTensor torch.Size([2500]) torch.LongTensor\n",
      "----------\n",
      "Point Cloud\n",
      "tensor([[ 0.0111,  0.0973, -0.2322],\n",
      "        [ 0.1066,  0.0954,  0.3008],\n",
      "        [-0.1440,  0.0967,  0.1384],\n",
      "        ...,\n",
      "        [ 0.0541,  0.0919,  0.0400],\n",
      "        [ 0.1529,  0.0933,  0.2125],\n",
      "        [-0.0263, -0.0865, -0.0357]])\n",
      "----------\n",
      "Label on Part Segmentation\n",
      "tensor([1, 1, 1,  ..., 1, 1, 2])\n",
      "----------\n",
      "Label on Classification\n",
      "Table\n"
     ]
    },
    {
     "data": {
      "text/plain": [
       "<matplotlib.image.AxesImage at 0x191d2444070>"
      ]
     },
     "execution_count": 78,
     "metadata": {},
     "output_type": "execute_result"
    },
    {
     "data": {
      "image/png": "[encoded data removed]",
      "text/plain": [
       "<Figure size 640x480 with 1 Axes>"
      ]
     },
     "metadata": {},
     "output_type": "display_data"
    }
   ],
   "source": [
    "# Load the ShapeNet Dataset\n",
    "# Default parameters for PartDataset: npoints = 2500, classification = False, class_choice = None, train = True, image=False\n",
    "\n",
    "#TODO: Get a Dataset for segmentation and with the image you got\n",
    "d = PartDataset(DATA_FOLDER, npoints=2500, classification=False, class_choice=None, train=True, image=True)\n",
    "print(\"Number of objects\",len(d))\n",
    "print('----------')\n",
    "\n",
    "idx = random.randint(0,len(d))\n",
    "ps, seg, img = d[idx]\n",
    "\n",
    "print(\"Point Cloud Caracteristics:\")\n",
    "print(ps.size(), ps.type(), seg.size(),seg.type())\n",
    "print('----------')\n",
    "print(\"Point Cloud\")\n",
    "print(ps)\n",
    "print('----------')\n",
    "print(\"Label on Part Segmentation\")\n",
    "print(seg)\n",
    "print('----------')\n",
    "\n",
    "# #TODO: Get a Dataset for Classification with the same index and without the image\n",
    "d = PartDataset(DATA_FOLDER, npoints=2500, classification=True, class_choice=None, train=True, image=False)\n",
    "ps2, class_ = d[idx]\n",
    "\n",
    "print(\"Label on Classification\")\n",
    "classes_dict_list = list(classes_dict)\n",
    "print(classes_dict_list[class_.item()])\n",
    "\n",
    "plt.imshow(np.asarray(img))"
   ]
  },
  {
   "cell_type": "code",
   "execution_count": 79,
   "metadata": {},
   "outputs": [
    {
     "data": {
      "application/vnd.jupyter.widget-view+json": {
       "model_id": "d95b78d5a8004953b51074e067365c02",
       "version_major": 2,
       "version_minor": 0
      },
      "text/plain": [
       "WebVisualizer(window_uid='window_34')"
      ]
     },
     "metadata": {},
     "output_type": "display_data"
    }
   ],
   "source": [
    "test_cloud = o3.geometry.PointCloud()\n",
    "test_cloud.points = o3.utility.Vector3dVector(ps)\n",
    "test_cloud.colors = o3.utility.Vector3dVector(read_pointnet_colors(seg.numpy()))\n",
    "\n",
    "# test_vis.add_geometry(test_cloud)\n",
    "# test_vis.show()\n",
    "\n",
    "draw(test_cloud)"
   ]
  },
  {
   "cell_type": "markdown",
   "metadata": {},
   "source": [
    "# 3D Deep Learning Model: PointNet"
   ]
  },
  {
   "cell_type": "markdown",
   "metadata": {},
   "source": [
    "## Build the Model: PointNet\n",
    "\n",
    "**The model is PointNet.**<p>\n",
    "![PointNet](https://d3i71xaburhd42.cloudfront.net/c3b6a072288e134f5ae6afe3eebc970ffb65cb68/3-Figure2-1.png)\n",
    "\n",
    "It's coming from the paper: https://arxiv.org/pdf/1612.00593.pdf"
   ]
  },
  {
   "cell_type": "markdown",
   "metadata": {},
   "source": [
    "### Build the T-Net\n",
    "\n",
    "NOTE: Since we are using Batch Normalizations, we will need to pass a batch size of greater than 1 during training since Batch Norm expects multiple batch values in order to compute the Mean and Std across the batch. Make sure to set the model to inference/evalutation mode using ```model = model.eval()```, this way the model will not explicitly require multiple batch samples.\n",
    "\n",
    "\n",
    "See https://discuss.pytorch.org/t/error-expected-more-than-1-value-per-channel-when-training/26274"
   ]
  },
  {
   "cell_type": "code",
   "execution_count": 80,
   "metadata": {
    "scrolled": true
   },
   "outputs": [
    {
     "name": "stdout",
     "output_type": "stream",
     "text": [
      "stn torch.Size([32, 3, 3])\n"
     ]
    }
   ],
   "source": [
    "# consider using a sequential for the T-net\n",
    "\n",
    "class STN3d(nn.Module):\n",
    "    \"\"\"\n",
    "    T-Net Model. \n",
    "    STN stands for Spatial Transformer Network.\n",
    "    \"\"\"\n",
    "    def __init__(self, dim, num_points=2500):\n",
    "        super(STN3d, self).__init__()\n",
    "\n",
    "        # dimensions for transform matrix\n",
    "        self.dim = dim \n",
    "\n",
    "        self.conv1 = nn.Conv1d(dim, 64, kernel_size=1)\n",
    "        self.conv2 = nn.Conv1d(64, 128, kernel_size=1)\n",
    "        self.conv3 = nn.Conv1d(128, 1024, kernel_size=1)\n",
    "\n",
    "        self.linear1 = nn.Linear(1024, 512)\n",
    "        self.linear2 = nn.Linear(512, 256)\n",
    "        self.linear3 = nn.Linear(256, dim**2)\n",
    "\n",
    "        self.bn1 = nn.BatchNorm1d(64)\n",
    "        self.bn2 = nn.BatchNorm1d(128)\n",
    "        self.bn3 = nn.BatchNorm1d(1024)\n",
    "        self.bn4 = nn.BatchNorm1d(512)\n",
    "        self.bn5 = nn.BatchNorm1d(256)\n",
    "\n",
    "        self.max_pool = nn.MaxPool1d(kernel_size=num_points)\n",
    "        \n",
    "\n",
    "    def forward(self, x):\n",
    "        bs = x.shape[0]\n",
    "\n",
    "        # pass through shared MLP layers (conv1d)\n",
    "        x = self.bn1(F.relu(self.conv1(x)))\n",
    "        x = self.bn2(F.relu(self.conv2(x)))\n",
    "        x = self.bn3(F.relu(self.conv3(x)))\n",
    "\n",
    "        # max pool over num points\n",
    "        x = self.max_pool(x).view(bs, -1)\n",
    "        \n",
    "        # pass through MLP\n",
    "        x = self.bn4(F.relu(self.linear1(x)))\n",
    "        x = self.bn5(F.relu(self.linear2(x)))\n",
    "        x = self.linear3(x)\n",
    "\n",
    "        # initialize identity matrix\n",
    "        iden = torch.eye(self.dim, requires_grad=True).repeat(bs, 1, 1)\n",
    "        if x.is_cuda:\n",
    "            iden = iden.cuda()\n",
    "\n",
    "        x = x.view(-1, self.dim, self.dim) + iden\n",
    "\n",
    "        return x\n",
    "\n",
    "sim_data = Variable(torch.rand(32,3,2500))\n",
    "trans = STN3d(dim=3)\n",
    "out = trans(sim_data)\n",
    "# print(\"Output Size must be [32, 3, 3]\")\n",
    "print('stn', out.size())\n"
   ]
  },
  {
   "cell_type": "code",
   "execution_count": 9,
   "metadata": {},
   "outputs": [],
   "source": [
    "trans = STN3d(dim=3).eval()\n",
    "out = trans(sim_data[0, :, :].unsqueeze(0))"
   ]
  },
  {
   "cell_type": "markdown",
   "metadata": {},
   "source": [
    "### Build the Feature T-Net + MLP"
   ]
  },
  {
   "cell_type": "markdown",
   "metadata": {},
   "source": [
    "### Build the backbone of Point Net\n",
    "\n",
    "When the term backbone is used in Deep Learning, people usually refer to different pre-trained Convolutional Nerual Networks (CNNs) that are used to extract features. In this case we are still using the backbone to extract features, but we are using a much more simple architecture than the typical CNNs. Here we are using a simple network that primarily consists of shared MLPs (1D convolutions) and some other add-ons such as Max Pooling and Batch Normalization. The secret sauce here is the Spatial Transformer Networks, these learn different representation of point clouds, allowing the PointNet to consume point clouds in any orientation. \n",
    "\n",
    "The important thing to note here, is that the Backbone portion extracts both global and local features of the point cloud. While only global features will be used for classification (similar to CNNs), a combination of Local and Global Features will be used for segmentation allowing the segmentation head to learn from a rich representation of features that simultaneously includes global location and local context (somewhat similar to U-net).\n",
    "\n",
    "\n",
    "References: \n",
    " - https://stackoverflow.com/questions/59868132/what-does-backbone-mean-in-a-neural-network\n",
    " - "
   ]
  },
  {
   "cell_type": "code",
   "execution_count": 81,
   "metadata": {
    "collapsed": true
   },
   "outputs": [],
   "source": [
    "# Restructure this... (This is the point net before classifcation and segmentation heads)\n",
    "class PointNetBackbone(nn.Module):\n",
    "    \"\"\"\n",
    "    This is the main portion of Point Net before the classification and segmentation heads.\n",
    "    The main function of this network is to obtain the local and global point features, \n",
    "    which can then be passed to each of the heads to perform either classification or\n",
    "    segmentation. The forward pass through the backbone includes both T-nets and their \n",
    "    transformations, the shared MLPs, and the max pool layer to obtain the global features.\n",
    "    \"\"\"\n",
    "    def __init__(self, num_points=2500, local_feat=True):\n",
    "        super(PointNetBackbone, self).__init__()\n",
    "\n",
    "        # if true concat local and global features\n",
    "        self.num_points = num_points\n",
    "        self.local_feat = local_feat\n",
    "\n",
    "        # Spatial Transformer Networks (T-nets)\n",
    "        self.stn1 = STN3d(dim=3, num_points=num_points)\n",
    "        self.stn2 = STN3d(dim=64, num_points=num_points)\n",
    "\n",
    "        # shared MLP 1\n",
    "        self.conv1 = nn.Conv1d(3, 64, kernel_size=1)\n",
    "        self.conv2 = nn.Conv1d(64, 64, kernel_size=1)\n",
    "\n",
    "        # shared MLP 2\n",
    "        self.conv3 = nn.Conv1d(64, 64, kernel_size=1)\n",
    "        self.conv4 = nn.Conv1d(64, 128, kernel_size=1)\n",
    "        self.conv5 = nn.Conv1d(128, 1024, kernel_size=1)\n",
    "        \n",
    "        # batch norms for both shared MLPs\n",
    "        self.bn1 = nn.BatchNorm1d(64)\n",
    "        self.bn2 = nn.BatchNorm1d(64)\n",
    "        self.bn3 = nn.BatchNorm1d(64)\n",
    "        self.bn4 = nn.BatchNorm1d(128)\n",
    "        self.bn5 = nn.BatchNorm1d(1024)\n",
    "\n",
    "        # max pool to get the global features\n",
    "        self.max_pool = nn.MaxPool1d(kernel_size=num_points)\n",
    "\n",
    "    \n",
    "    def forward(self, x):\n",
    "\n",
    "        # get batch size\n",
    "        bs = x.shape[0]\n",
    "        \n",
    "        # pass through first Tnet to get transform matrix\n",
    "        trans1 = self.stn1(x)\n",
    "\n",
    "        # perform first transformation across each point in the batch\n",
    "        x = torch.bmm(x.transpose(2, 1), trans1).transpose(2, 1)\n",
    "\n",
    "        # pass through first shared MLP\n",
    "        x = self.bn1(F.relu(self.conv1(x)))\n",
    "        x = self.bn2(F.relu(self.conv2(x)))\n",
    "        \n",
    "        # get feature transform\n",
    "        trans2 = self.stn2(x)\n",
    "\n",
    "        # perform second transformation across each (64 dim) feature in the batch\n",
    "        x = torch.bmm(x.transpose(2, 1), trans2).transpose(2, 1)\n",
    "\n",
    "        # store local point features for segmentation head\n",
    "        local_features = x.clone()\n",
    "\n",
    "        # pass through second MLP\n",
    "        x = self.bn3(F.relu(self.conv3(x)))\n",
    "        x = self.bn4(F.relu(self.conv4(x)))\n",
    "        x = self.bn5(F.relu(self.conv5(x)))\n",
    "\n",
    "        # get global feature vector\n",
    "        global_features = self.max_pool(x).view(bs, -1)\n",
    "\n",
    "        if self.local_feat:\n",
    "            features = torch.cat((local_features, \n",
    "                                  global_features.unsqueeze(-1).repeat(1, 1, 2500)), \n",
    "                                  dim=1)\n",
    "\n",
    "            return features, trans2\n",
    "\n",
    "        else:\n",
    "            return global_features, trans2\n",
    "            \n"
   ]
  },
  {
   "cell_type": "code",
   "execution_count": 143,
   "metadata": {},
   "outputs": [
    {
     "name": "stdout",
     "output_type": "stream",
     "text": [
      "global feat torch.Size([32, 1088, 2500])\n"
     ]
    }
   ],
   "source": [
    "pointfeat = PointNetBackbone(local_feat=True)\n",
    "out, _ = pointfeat(sim_data)\n",
    "print('global feat', out.size())"
   ]
  },
  {
   "cell_type": "code",
   "execution_count": 145,
   "metadata": {},
   "outputs": [
    {
     "data": {
      "text/plain": [
       "torch.Size([1, 1088, 2500])"
      ]
     },
     "execution_count": 145,
     "metadata": {},
     "output_type": "execute_result"
    }
   ],
   "source": [
    "# test on single batch\n",
    "pointfeat = PointNetBackbone(local_feat=True).eval()\n",
    "out, _ = pointfeat(sim_data[0, :, :].unsqueeze(0))\n",
    "out.shape"
   ]
  },
  {
   "cell_type": "markdown",
   "metadata": {},
   "source": [
    "### Build the Classification Head"
   ]
  },
  {
   "cell_type": "code",
   "execution_count": 82,
   "metadata": {
    "collapsed": true
   },
   "outputs": [],
   "source": [
    "class PointNetClassHead(nn.Module):\n",
    "    \"\"\"\n",
    "    Network for Classification: 512, 256, K.\n",
    "    \"\"\"\n",
    "    def __init__(self, num_points=2500, k=2):\n",
    "        super(PointNetClassHead, self).__init__()\n",
    "\n",
    "        # get the backbone (only need global features for classification)\n",
    "        self.backbone = PointNetBackbone(num_points=num_points, local_feat=False)\n",
    "\n",
    "        # MLP for classification\n",
    "        self.linear1 = nn.Linear(1024, 512)\n",
    "        self.linear2 = nn.Linear(512, 256)\n",
    "        self.linear3 = nn.Linear(256, k)\n",
    "\n",
    "        # batchnorm for the first 2 linear layers\n",
    "        self.bn1 = nn.BatchNorm1d(512)\n",
    "        self.bn2 = nn.BatchNorm1d(256)\n",
    "\n",
    "        # The paper states that batch norm was only added to the layer \n",
    "        # before the classication layer, but another version adds dropout  \n",
    "        # to the first 2 layers\n",
    "        self.dropout = nn.Dropout(p=0.3)\n",
    "        \n",
    "\n",
    "    def forward(self, x):\n",
    "        # get global features\n",
    "        x, trans1 = self.backbone(x) \n",
    "\n",
    "        x = self.bn1(F.relu(self.linear1(x)))\n",
    "        x = self.bn2(F.relu(self.linear2(x)))\n",
    "        x = self.dropout(x)\n",
    "        x = self.linear3(x)\n",
    "\n",
    "        # return logits\n",
    "        return x, trans1\n",
    "\n",
    "\n",
    "        "
   ]
  },
  {
   "cell_type": "code",
   "execution_count": 149,
   "metadata": {},
   "outputs": [
    {
     "name": "stdout",
     "output_type": "stream",
     "text": [
      "global features torch.Size([32, 1024])\n",
      "combined features torch.Size([32, 1088, 2500])\n",
      "class torch.Size([32, 5])\n"
     ]
    }
   ],
   "source": [
    "pointfeat = PointNetBackbone(local_feat=False)\n",
    "out, _ = pointfeat(sim_data)\n",
    "print('global features', out.size())\n",
    "\n",
    "pointfeat = PointNetBackbone(local_feat=True)\n",
    "out, _ = pointfeat(sim_data)\n",
    "print('combined features', out.size())\n",
    "\n",
    "classifier = PointNetClassHead(k=5)\n",
    "out, _ = classifier(sim_data)\n",
    "print('class', out.size())"
   ]
  },
  {
   "cell_type": "code",
   "execution_count": 151,
   "metadata": {},
   "outputs": [
    {
     "name": "stdout",
     "output_type": "stream",
     "text": [
      "torch.Size([1, 5])\n"
     ]
    }
   ],
   "source": [
    "classifier = PointNetClassHead(k=5).eval()\n",
    "out, _ = classifier(sim_data[0, :, :].unsqueeze(0))\n",
    "print(out.shape)"
   ]
  },
  {
   "cell_type": "markdown",
   "metadata": {},
   "source": [
    "### Build the Segmentation Head\n",
    "\n",
    "NOTE: The authors of the paper use a slightly different network architecture to perform part segmentation. They concatenate point features from different portions of the network as well as a one-hot vector of classes to indicate the current class and add some skip connections. This network head will be the one contained in the original paper. Per the paper, the arhcitecure of the Segmentation head is used for semantic segmentation."
   ]
  },
  {
   "cell_type": "code",
   "execution_count": 83,
   "metadata": {
    "collapsed": true
   },
   "outputs": [],
   "source": [
    "class PointNetSegHead(nn.Module):\n",
    "    \"\"\"\n",
    "    Network for Segmentation\n",
    "    \"\"\"\n",
    "    def __init__(self, num_points=2500, m=2):\n",
    "        super(PointNetSegHead, self).__init__()\n",
    "\n",
    "        self.num_points = num_points\n",
    "        self.m = m\n",
    "\n",
    "        # get the backbone \n",
    "        self.backbone = PointNetBackbone(num_points=num_points, local_feat=True)\n",
    "\n",
    "        # shared MLP\n",
    "        self.conv1 = nn.Conv1d(1088, 512, kernel_size=1)\n",
    "        self.conv2 = nn.Conv1d(512, 256, kernel_size=1)\n",
    "        self.conv3 = nn.Conv1d(256, 128, kernel_size=1)\n",
    "        self.conv4 = nn.Conv1d(128, m, kernel_size=1)\n",
    "\n",
    "        # batch norms for shared MLP\n",
    "        self.bn1 = nn.BatchNorm1d(512)\n",
    "        self.bn2 = nn.BatchNorm1d(256)\n",
    "        self.bn3 = nn.BatchNorm1d(128)\n",
    "\n",
    "\n",
    "    def forward(self, x):\n",
    "        \n",
    "        # get combined features\n",
    "        x, trans1 = self.backbone(x) \n",
    "\n",
    "        # pass through shared MLP\n",
    "        x = self.bn1(F.relu(self.conv1(x)))\n",
    "        x = self.bn2(F.relu(self.conv2(x)))\n",
    "        x = self.bn3(F.relu(self.conv3(x)))\n",
    "        x = self.conv4(x)\n",
    "\n",
    "        x = x.transpose(2, 1)\n",
    "        \n",
    "        return x, trans1"
   ]
  },
  {
   "cell_type": "code",
   "execution_count": 153,
   "metadata": {
    "collapsed": true
   },
   "outputs": [
    {
     "name": "stdout",
     "output_type": "stream",
     "text": [
      "seg torch.Size([32, 2500, 3])\n"
     ]
    }
   ],
   "source": [
    "seg = PointNetSegHead(m=3)\n",
    "# print(seg)\n",
    "out, _ = seg(sim_data)\n",
    "print('seg', out.size())"
   ]
  },
  {
   "cell_type": "code",
   "execution_count": 157,
   "metadata": {},
   "outputs": [
    {
     "name": "stdout",
     "output_type": "stream",
     "text": [
      "seg torch.Size([1, 2500, 3])\n"
     ]
    }
   ],
   "source": [
    "# test on batch with single sample\n",
    "seg = PointNetSegHead(m=3).eval()\n",
    "out, _ = seg(sim_data[0, :, :].unsqueeze(0))\n",
    "print('seg', out.size())"
   ]
  },
  {
   "cell_type": "markdown",
   "metadata": {},
   "source": [
    "## Train the Model for classification and segmentation"
   ]
  },
  {
   "cell_type": "code",
   "execution_count": 84,
   "metadata": {
    "collapsed": true
   },
   "outputs": [],
   "source": [
    "# TODO: Define Hyperparameters\n",
    "batchSize = 32\n",
    "num_points = 2500\n",
    "nepoch = 10\n",
    "outf=\"cls\" #Out folder, saving each epoch"
   ]
  },
  {
   "cell_type": "markdown",
   "metadata": {},
   "source": [
    "### NOTE: ADD Mathews Correlation Coefficent as an additional metric"
   ]
  },
  {
   "cell_type": "code",
   "execution_count": 85,
   "metadata": {
    "collapsed": true
   },
   "outputs": [
    {
     "name": "stdout",
     "output_type": "stream",
     "text": [
      "\t [0: 0/499] train loss: 2.898310 accuracy: 0.031250\n",
      "\t [0: 100/499] train loss: 0.682770 accuracy: 0.781250\n",
      "\t [0: 200/499] train loss: 0.511253 accuracy: 0.875000\n",
      "\t [0: 300/499] train loss: 0.239937 accuracy: 0.937500\n",
      "\t [0: 400/499] train loss: 0.609390 accuracy: 0.781250\n",
      "Epoch: 0 - Train Loss: 0.7154492557346821 - Train Accuracy: 0.7835\n",
      "\t [0: 0/499] \u001b[94mtest\u001b[0m loss: 0.001649 accuracy: 1.000000\n",
      "Epoch: 0 - Test Loss: 0.5403343872894766 - Test Accuracy: 0.8381696428571429\n",
      "\t [1: 0/499] train loss: 0.280528 accuracy: 0.906250\n",
      "\t [1: 100/499] train loss: 0.489757 accuracy: 0.875000\n",
      "\t [1: 200/499] train loss: 0.185255 accuracy: 0.937500\n",
      "\t [1: 300/499] train loss: 0.433801 accuracy: 0.875000\n",
      "\t [1: 400/499] train loss: 0.464709 accuracy: 0.906250\n",
      "Epoch: 1 - Train Loss: 0.3512492551729083 - Train Accuracy: 0.8965625\n",
      "\t [1: 0/499] \u001b[94mtest\u001b[0m loss: 0.070978 accuracy: 0.968750\n",
      "Epoch: 1 - Test Loss: 114602.09383597792 - Test Accuracy: 0.9313616071428571\n",
      "\t [2: 0/499] train loss: 0.417503 accuracy: 0.875000\n",
      "\t [2: 100/499] train loss: 0.172305 accuracy: 0.875000\n",
      "\t [2: 200/499] train loss: 0.245692 accuracy: 0.937500\n",
      "\t [2: 300/499] train loss: 0.344364 accuracy: 0.875000\n",
      "\t [2: 400/499] train loss: 0.105487 accuracy: 0.968750\n",
      "Epoch: 2 - Train Loss: 0.2494625922162086 - Train Accuracy: 0.93\n",
      "\t [2: 0/499] \u001b[94mtest\u001b[0m loss: 0.000915 accuracy: 1.000000\n",
      "Epoch: 2 - Test Loss: 0.1505782334710862 - Test Accuracy: 0.9626116071428571\n",
      "\t [3: 0/499] train loss: 0.239245 accuracy: 0.968750\n",
      "\t [3: 100/499] train loss: 0.064096 accuracy: 1.000000\n",
      "\t [3: 200/499] train loss: 0.403013 accuracy: 0.843750\n",
      "\t [3: 300/499] train loss: 0.062732 accuracy: 0.968750\n",
      "\t [3: 400/499] train loss: 0.166508 accuracy: 0.937500\n",
      "Epoch: 3 - Train Loss: 0.20724704824294896 - Train Accuracy: 0.9416875\n",
      "\t [3: 0/499] \u001b[94mtest\u001b[0m loss: 0.000406 accuracy: 1.000000\n",
      "Epoch: 3 - Test Loss: 0.18183951676305046 - Test Accuracy: 0.9536830357142857\n",
      "\t [4: 0/499] train loss: 0.187862 accuracy: 0.906250\n",
      "\t [4: 100/499] train loss: 0.015216 accuracy: 1.000000\n",
      "\t [4: 200/499] train loss: 0.008648 accuracy: 1.000000\n",
      "\t [4: 300/499] train loss: 0.155885 accuracy: 0.937500\n",
      "\t [4: 400/499] train loss: 0.209158 accuracy: 0.968750\n",
      "Epoch: 4 - Train Loss: 0.21574809651030227 - Train Accuracy: 0.9388125\n",
      "\t [4: 0/499] \u001b[94mtest\u001b[0m loss: 0.000045 accuracy: 1.000000\n",
      "Epoch: 4 - Test Loss: 0.327261400199989 - Test Accuracy: 0.9380580357142857\n",
      "\t [5: 0/499] train loss: 0.515089 accuracy: 0.843750\n",
      "\t [5: 100/499] train loss: 0.553062 accuracy: 0.843750\n",
      "\t [5: 200/499] train loss: 0.016825 accuracy: 1.000000\n",
      "\t [5: 300/499] train loss: 0.058780 accuracy: 1.000000\n",
      "\t [5: 400/499] train loss: 0.188200 accuracy: 0.937500\n",
      "Epoch: 5 - Train Loss: 0.21658747844677417 - Train Accuracy: 0.9405625\n",
      "\t [5: 0/499] \u001b[94mtest\u001b[0m loss: 0.000170 accuracy: 1.000000\n",
      "Epoch: 5 - Test Loss: 9.397457663232283 - Test Accuracy: 0.9564732142857143\n",
      "\t [6: 0/499] train loss: 0.010226 accuracy: 1.000000\n",
      "\t [6: 100/499] train loss: 0.179051 accuracy: 0.937500\n",
      "\t [6: 200/499] train loss: 0.162514 accuracy: 0.937500\n",
      "\t [6: 300/499] train loss: 0.587003 accuracy: 0.875000\n",
      "\t [6: 400/499] train loss: 0.028896 accuracy: 1.000000\n",
      "Epoch: 6 - Train Loss: 0.16390637259744106 - Train Accuracy: 0.9544375\n",
      "\t [6: 0/499] \u001b[94mtest\u001b[0m loss: 0.000123 accuracy: 1.000000\n",
      "Epoch: 6 - Test Loss: 17876.150276882916 - Test Accuracy: 0.9581473214285714\n",
      "\t [7: 0/499] train loss: 0.170774 accuracy: 0.968750\n",
      "\t [7: 100/499] train loss: 0.213699 accuracy: 0.937500\n",
      "\t [7: 200/499] train loss: 0.103332 accuracy: 0.937500\n",
      "\t [7: 300/499] train loss: 0.111024 accuracy: 0.968750\n",
      "\t [7: 400/499] train loss: 0.177391 accuracy: 0.937500\n",
      "Epoch: 7 - Train Loss: 0.1377896505719982 - Train Accuracy: 0.9628125\n",
      "\t [7: 0/499] \u001b[94mtest\u001b[0m loss: 0.000283 accuracy: 1.000000\n",
      "Epoch: 7 - Test Loss: 0.11594475252422853 - Test Accuracy: 0.9676339285714286\n",
      "\t [8: 0/499] train loss: 0.050339 accuracy: 0.968750\n",
      "\t [8: 100/499] train loss: 0.054262 accuracy: 0.968750\n",
      "\t [8: 200/499] train loss: 0.226702 accuracy: 0.968750\n",
      "\t [8: 300/499] train loss: 0.028255 accuracy: 1.000000\n",
      "\t [8: 400/499] train loss: 0.037905 accuracy: 1.000000\n",
      "Epoch: 8 - Train Loss: 0.1288657995581161 - Train Accuracy: 0.9655625\n",
      "\t [8: 0/499] \u001b[94mtest\u001b[0m loss: 0.000098 accuracy: 1.000000\n",
      "Epoch: 8 - Test Loss: 1.4475588703931603 - Test Accuracy: 0.9709821428571429\n",
      "\t [9: 0/499] train loss: 0.061002 accuracy: 0.968750\n",
      "\t [9: 100/499] train loss: 0.010985 accuracy: 1.000000\n",
      "\t [9: 200/499] train loss: 0.038088 accuracy: 0.968750\n",
      "\t [9: 300/499] train loss: 0.053913 accuracy: 1.000000\n",
      "\t [9: 400/499] train loss: 0.059375 accuracy: 0.968750\n",
      "Epoch: 9 - Train Loss: 0.13836936241434888 - Train Accuracy: 0.96275\n",
      "\t [9: 0/499] \u001b[94mtest\u001b[0m loss: 0.000087 accuracy: 1.000000\n",
      "Epoch: 9 - Test Loss: 0.22384107780375676 - Test Accuracy: 0.9391741071428571\n"
     ]
    }
   ],
   "source": [
    "# DATASET & DATA LOADER\n",
    "\n",
    "from torch.utils.data import DataLoader\n",
    "import time\n",
    "\n",
    "# Train Dataset & DataLoader\n",
    "\n",
    "# segmentation\n",
    "# dataset = PartDataset(DATA_FOLDER, npoints=2500, classification=False, class_choice=None, train=True, image=True)\n",
    "\n",
    "# classification\n",
    "dataset = PartDataset(DATA_FOLDER, npoints=num_points, classification=True, class_choice=None, train=True, image=False)\n",
    "dataloader = DataLoader(dataset, batch_size=batchSize, shuffle=True, num_workers=0)\n",
    "\n",
    "# Test Dataset & DataLoader\n",
    "test_dataset = PartDataset(DATA_FOLDER, npoints=num_points, classification=True, class_choice=None, train=False, image=False)\n",
    "testdataloader = DataLoader(test_dataset, batch_size=batchSize, num_workers=0)\n",
    "\n",
    "blue = lambda x:'\\033[94m' + x + '\\033[0m'\n",
    "\n",
    "# get model\n",
    "num_classes = len(classes_dict.items())\n",
    "classifier = PointNetClassHead(num_points=num_points, k=num_classes)\n",
    "\n",
    "optimizer = optim.Adam(classifier.parameters(), lr=0.01)\n",
    "criterion = nn.CrossEntropyLoss()\n",
    "\n",
    "if torch.cuda.is_available():\n",
    "    classifier.cuda()\n",
    "\n",
    "num_batch = len(dataset)/batchSize # What is the number of batch?\n",
    "\n",
    "# lists to store metrics\n",
    "train_loss = []\n",
    "train_accuracy = []\n",
    "test_loss = []\n",
    "test_accuracy = []\n",
    "\n",
    "# TRAIN ON EPOCHS\n",
    "for epoch in range(nepoch):\n",
    "\n",
    "    # place model in training mode\n",
    "    classifier = classifier.train()\n",
    "    _train_loss = []\n",
    "    _train_accuracy = []\n",
    "    for i, (points, targets) in enumerate(dataloader, 0):\n",
    "        \"\"\"\n",
    "        Get Points & Classification Label\n",
    "        \"\"\"\n",
    "\n",
    "        points = points.transpose(2, 1)\n",
    "        targets = targets.squeeze()\n",
    "        \n",
    "        if torch.cuda.is_available():\n",
    "            points, targets = points.cuda(), targets.cuda()\n",
    "        \n",
    "        # zero gradients\n",
    "        optimizer.zero_grad()\n",
    "        \n",
    "        # get predicted class logits\n",
    "        preds, _ = classifier(points)\n",
    "        \n",
    "        # get loss and perform backprop\n",
    "        loss = criterion(preds, targets)\n",
    "        loss.backward()\n",
    "        optimizer.step()\n",
    "        \n",
    "        # get class predictions\n",
    "        pred_choice = torch.softmax(preds, dim=1).argmax(dim=1) \n",
    "        correct = pred_choice.eq(targets.data).cpu().sum()\n",
    "        accuracy = correct.item()/float(batchSize)\n",
    "\n",
    "        # update epoch loss and accuracy\n",
    "        _train_loss.append(loss.item())\n",
    "        _train_accuracy.append(accuracy)\n",
    "\n",
    "        if i % 100 == 0:\n",
    "            print('\\t [%d: %d/%d] train loss: %f accuracy: %f' \\\n",
    "                  % (epoch, i, num_batch, loss.item(), accuracy))\n",
    "        \n",
    "        # if i % 10 == 0:\n",
    "        #     j, data = next(enumerate(testdataloader, 0))\n",
    "        #     points, target = data\n",
    "        #     points, target = Variable(points), Variable(target[:,0])\n",
    "        #     points = points.transpose(2, 1)\n",
    "        #     if torch.cuda.is_available():\n",
    "        #         points, target = points.cuda(), target.cuda()\n",
    "        #     classifier = classifier.eval()\n",
    "        #     pred, _ = classifier(points)\n",
    "        #     loss = F.nll_loss(pred, target)\n",
    "        #     pred_choice = pred.data.max(1)[1]\n",
    "        #     correct = pred_choice.eq(target.data).cpu().sum()\n",
    "        #     print('[%d: %d/%d] %s loss: %f accuracy: %f' %(epoch, i, num_batch, blue('test'), loss.item(), correct.item()/float(batchSize)))\n",
    "\n",
    "    train_loss.append(np.mean(_train_loss))\n",
    "    train_accuracy.append(np.mean(_train_accuracy))\n",
    "\n",
    "    print(f'Epoch: {epoch} - Train Loss: {train_loss[-1]} - Train Accuracy: {train_accuracy[-1]}')\n",
    "\n",
    "    # pause to cool down\n",
    "    time.sleep(5)\n",
    "\n",
    "    # get test results after each epoch\n",
    "    with torch.no_grad():\n",
    "\n",
    "        # place model in evaluation mode\n",
    "        classifier = classifier.eval()\n",
    "\n",
    "        _test_loss = []\n",
    "        _test_accuracy = []\n",
    "        for i, (points, targets) in enumerate(testdataloader, 0):\n",
    "\n",
    "            points = points.transpose(2, 1)\n",
    "            targets = targets.squeeze()\n",
    "            \n",
    "            if torch.cuda.is_available():\n",
    "                points, targets = points.cuda(), targets.cuda()\n",
    "\n",
    "            preds, _ = classifier(points)\n",
    "            loss = criterion(preds, targets)\n",
    "\n",
    "            pred_choice = torch.softmax(preds, dim=1).argmax(dim=1) \n",
    "            correct = pred_choice.eq(targets.data).cpu().sum()\n",
    "            accuracy = correct.item()/float(batchSize)\n",
    "\n",
    "            # update epoch loss and accuracy\n",
    "            _test_loss.append(loss.item())\n",
    "            _test_accuracy.append(accuracy)\n",
    "\n",
    "            if i % 100 == 0:\n",
    "                print('\\t [%d: %d/%d] %s loss: %f accuracy: %f' \\\n",
    "                      % (epoch, i, num_batch, blue('test'), loss.item(), accuracy))\n",
    "        \n",
    "        test_loss.append(np.mean(_test_loss))\n",
    "        test_accuracy.append(np.mean(_test_accuracy))\n",
    "        print(f'Epoch: {epoch} - Test Loss: {test_loss[-1]} - Test Accuracy: {test_accuracy[-1]}')\n",
    "\n",
    "        # pause to cool down\n",
    "        time.sleep(5)\n",
    "\n",
    "    torch.save(classifier.state_dict(), '%s/cls_model_%d.pth' % (outf, epoch))"
   ]
  },
  {
   "cell_type": "code",
   "execution_count": 121,
   "metadata": {},
   "outputs": [
    {
     "data": {
      "text/plain": [
       "PointNetClassHead(\n",
       "  (backbone): PointNetBackbone(\n",
       "    (stn1): STN3d(\n",
       "      (conv1): Conv1d(3, 64, kernel_size=(1,), stride=(1,))\n",
       "      (conv2): Conv1d(64, 128, kernel_size=(1,), stride=(1,))\n",
       "      (conv3): Conv1d(128, 1024, kernel_size=(1,), stride=(1,))\n",
       "      (linear1): Linear(in_features=1024, out_features=512, bias=True)\n",
       "      (linear2): Linear(in_features=512, out_features=256, bias=True)\n",
       "      (linear3): Linear(in_features=256, out_features=9, bias=True)\n",
       "      (bn1): BatchNorm1d(64, eps=1e-05, momentum=0.1, affine=True, track_running_stats=True)\n",
       "      (bn2): BatchNorm1d(128, eps=1e-05, momentum=0.1, affine=True, track_running_stats=True)\n",
       "      (bn3): BatchNorm1d(1024, eps=1e-05, momentum=0.1, affine=True, track_running_stats=True)\n",
       "      (bn4): BatchNorm1d(512, eps=1e-05, momentum=0.1, affine=True, track_running_stats=True)\n",
       "      (bn5): BatchNorm1d(256, eps=1e-05, momentum=0.1, affine=True, track_running_stats=True)\n",
       "      (max_pool): MaxPool1d(kernel_size=10000, stride=10000, padding=0, dilation=1, ceil_mode=False)\n",
       "    )\n",
       "    (stn2): STN3d(\n",
       "      (conv1): Conv1d(64, 64, kernel_size=(1,), stride=(1,))\n",
       "      (conv2): Conv1d(64, 128, kernel_size=(1,), stride=(1,))\n",
       "      (conv3): Conv1d(128, 1024, kernel_size=(1,), stride=(1,))\n",
       "      (linear1): Linear(in_features=1024, out_features=512, bias=True)\n",
       "      (linear2): Linear(in_features=512, out_features=256, bias=True)\n",
       "      (linear3): Linear(in_features=256, out_features=4096, bias=True)\n",
       "      (bn1): BatchNorm1d(64, eps=1e-05, momentum=0.1, affine=True, track_running_stats=True)\n",
       "      (bn2): BatchNorm1d(128, eps=1e-05, momentum=0.1, affine=True, track_running_stats=True)\n",
       "      (bn3): BatchNorm1d(1024, eps=1e-05, momentum=0.1, affine=True, track_running_stats=True)\n",
       "      (bn4): BatchNorm1d(512, eps=1e-05, momentum=0.1, affine=True, track_running_stats=True)\n",
       "      (bn5): BatchNorm1d(256, eps=1e-05, momentum=0.1, affine=True, track_running_stats=True)\n",
       "      (max_pool): MaxPool1d(kernel_size=10000, stride=10000, padding=0, dilation=1, ceil_mode=False)\n",
       "    )\n",
       "    (conv1): Conv1d(3, 64, kernel_size=(1,), stride=(1,))\n",
       "    (conv2): Conv1d(64, 64, kernel_size=(1,), stride=(1,))\n",
       "    (conv3): Conv1d(64, 64, kernel_size=(1,), stride=(1,))\n",
       "    (conv4): Conv1d(64, 128, kernel_size=(1,), stride=(1,))\n",
       "    (conv5): Conv1d(128, 1024, kernel_size=(1,), stride=(1,))\n",
       "    (bn1): BatchNorm1d(64, eps=1e-05, momentum=0.1, affine=True, track_running_stats=True)\n",
       "    (bn2): BatchNorm1d(64, eps=1e-05, momentum=0.1, affine=True, track_running_stats=True)\n",
       "    (bn3): BatchNorm1d(64, eps=1e-05, momentum=0.1, affine=True, track_running_stats=True)\n",
       "    (bn4): BatchNorm1d(128, eps=1e-05, momentum=0.1, affine=True, track_running_stats=True)\n",
       "    (bn5): BatchNorm1d(1024, eps=1e-05, momentum=0.1, affine=True, track_running_stats=True)\n",
       "    (max_pool): MaxPool1d(kernel_size=10000, stride=10000, padding=0, dilation=1, ceil_mode=False)\n",
       "  )\n",
       "  (linear1): Linear(in_features=1024, out_features=512, bias=True)\n",
       "  (linear2): Linear(in_features=512, out_features=256, bias=True)\n",
       "  (linear3): Linear(in_features=256, out_features=16, bias=True)\n",
       "  (bn1): BatchNorm1d(512, eps=1e-05, momentum=0.1, affine=True, track_running_stats=True)\n",
       "  (bn2): BatchNorm1d(256, eps=1e-05, momentum=0.1, affine=True, track_running_stats=True)\n",
       "  (dropout): Dropout(p=0.3, inplace=False)\n",
       ")"
      ]
     },
     "execution_count": 121,
     "metadata": {},
     "output_type": "execute_result"
    }
   ],
   "source": [
    "MODEL_PATH = 'cls/cls_model_7.pth'\n",
    "NUM_POINTS = 10000\n",
    "NUM_CLASSES = len(classes_dict.items())\n",
    "\n",
    "classifier = PointNetClassHead(num_points=NUM_POINTS, k=NUM_CLASSES) # Create the classification network from pre-trained model\n",
    "\n",
    "if torch.cuda.is_available():\n",
    "    classifier.cuda()\n",
    "    classifier.load_state_dict(torch.load(MODEL_PATH))\n",
    "else:\n",
    "    classifier.load_state_dict(torch.load(MODEL_PATH, map_location='cpu'))\n",
    "    \n",
    "classifier.eval()"
   ]
  },
  {
   "cell_type": "markdown",
   "metadata": {},
   "source": [
    "# Visualize the output"
   ]
  },
  {
   "cell_type": "code",
   "execution_count": 122,
   "metadata": {},
   "outputs": [
    {
     "name": "stdout",
     "output_type": "stream",
     "text": [
      "[Sample 865 / 1785]\n"
     ]
    },
    {
     "data": {
      "application/vnd.jupyter.widget-view+json": {
       "model_id": "77311dada2224e5fb7adff88eed20db4",
       "version_major": 2,
       "version_minor": 0
      },
      "text/plain": [
       "WebVisualizer(window_uid='window_54')"
      ]
     },
     "metadata": {},
     "output_type": "display_data"
    },
    {
     "data": {
      "image/png": "[encoded data removed]",
      "text/plain": [
       "<Figure size 640x480 with 1 Axes>"
      ]
     },
     "metadata": {},
     "output_type": "display_data"
    },
    {
     "name": "stdout",
     "output_type": "stream",
     "text": [
      "Your object is a [Guitar] with probability 0.998.\n"
     ]
    },
    {
     "ename": "NameError",
     "evalue": "name 'STOP' is not defined",
     "output_type": "error",
     "traceback": [
      "\u001b[1;31m---------------------------------------------------------------------------\u001b[0m",
      "\u001b[1;31mNameError\u001b[0m                                 Traceback (most recent call last)",
      "\u001b[1;32m~\\AppData\\Local\\Temp\\ipykernel_17708\\3175569927.py\u001b[0m in \u001b[0;36m<module>\u001b[1;34m\u001b[0m\n\u001b[0;32m     56\u001b[0m \u001b[1;33m\u001b[0m\u001b[0m\n\u001b[0;32m     57\u001b[0m     \u001b[0mprint\u001b[0m\u001b[1;33m(\u001b[0m\u001b[1;34m'Your object is a [{}] with probability {:0.3}.'\u001b[0m\u001b[1;33m.\u001b[0m\u001b[0mformat\u001b[0m\u001b[1;33m(\u001b[0m\u001b[0mlist\u001b[0m\u001b[1;33m(\u001b[0m\u001b[0mclasses_dict\u001b[0m\u001b[1;33m.\u001b[0m\u001b[0mkeys\u001b[0m\u001b[1;33m(\u001b[0m\u001b[1;33m)\u001b[0m\u001b[1;33m)\u001b[0m\u001b[1;33m[\u001b[0m\u001b[0mpred_class\u001b[0m\u001b[1;33m]\u001b[0m\u001b[1;33m,\u001b[0m \u001b[0mpreds\u001b[0m\u001b[1;33m[\u001b[0m\u001b[0mpred_class\u001b[0m\u001b[1;33m]\u001b[0m\u001b[1;33m)\u001b[0m\u001b[1;33m)\u001b[0m\u001b[1;33m\u001b[0m\u001b[1;33m\u001b[0m\u001b[0m\n\u001b[1;32m---> 58\u001b[1;33m     \u001b[0mprint\u001b[0m\u001b[1;33m(\u001b[0m\u001b[0mSTOP\u001b[0m\u001b[1;33m)\u001b[0m\u001b[1;33m\u001b[0m\u001b[1;33m\u001b[0m\u001b[0m\n\u001b[0m\u001b[0;32m     59\u001b[0m \u001b[1;33m\u001b[0m\u001b[0m\n\u001b[0;32m     60\u001b[0m     \u001b[1;31m# input('Your object is a [{}] with probability {:0.3}. Press enter to continue!'\u001b[0m\u001b[1;33m\u001b[0m\u001b[1;33m\u001b[0m\u001b[1;33m\u001b[0m\u001b[0m\n",
      "\u001b[1;31mNameError\u001b[0m: name 'STOP' is not defined"
     ]
    }
   ],
   "source": [
    "# Three.js based visualizer\n",
    "# visualizer = JVisualizer()\n",
    "\n",
    "#Get a dataset for testing\n",
    "test_dataset_seg = PartDataset(root=DATA_FOLDER, train=False, classification=False, npoints=NUM_POINTS)\n",
    "\n",
    "# Basic inference and visualization loop\n",
    "MAX_SAMPLES = 15\n",
    "\n",
    "for samples in range(MAX_SAMPLES):\n",
    "    random_index = randrange(len(test_dataset_seg))\n",
    "    print('[Sample {} / {}]'.format(random_index, len(test_dataset_seg)))\n",
    "    \n",
    "    # clean visualization\n",
    "    # visualizer.clear()\n",
    "    # clear_output()\n",
    "\n",
    "    # get next sample\n",
    "    point_set, seg = test_dataset_seg.__getitem__(random_index)\n",
    "\n",
    "    # create cloud for visualization\n",
    "    cloud = o3.geometry.PointCloud()\n",
    "    cloud.points = o3.utility.Vector3dVector(point_set)\n",
    "    cloud.colors = o3.utility.Vector3dVector(read_pointnet_colors(seg.numpy()))\n",
    "\n",
    "\n",
    "    # perform inference in GPU\n",
    "    # points = Variable(point_set.unsqueeze(0))\n",
    "    points = point_set.unsqueeze(0)\n",
    "    points = points.transpose(2, 1)\n",
    "    if torch.cuda.is_available():\n",
    "        points = points.cuda()\n",
    "\n",
    "    preds, _ = classifier(points)\n",
    "\n",
    "    # softmax over predicted logits\n",
    "    preds = torch.softmax(preds, dim=1) # .argmax(dim=1) \n",
    "\n",
    "    # move data back to cpu for visualization\n",
    "    preds = preds.data.cpu().numpy().squeeze()\n",
    "    # preds = np.exp(preds)\n",
    "    pred_class = np.argmax(preds)\n",
    "\n",
    "    # let's visualize the input sample\n",
    "    # visualizer.add_geometry(cloud)\n",
    "    # visualizer.show()\n",
    "\n",
    "    draw(cloud)\n",
    "    \n",
    "    # Visualize probabilities\n",
    "    plt.xticks(list(classes_dict.values()), list(classes_dict.keys()),rotation=90)\n",
    "    plt.xlabel('Classes')\n",
    "    plt.ylabel('Probabilities')\n",
    "    plt.plot(list(classes_dict.values()), preds)\n",
    "    plt.show()\n",
    "\n",
    "    print('Your object is a [{}] with probability {:0.3}.'.format(list(classes_dict.keys())[pred_class], preds[pred_class]))\n",
    "    print(STOP)\n",
    "\n",
    "    # input('Your object is a [{}] with probability {:0.3}. Press enter to continue!'\n",
    "    #       .format(list(classes_dict.keys())[pred_class], preds[pred_class]))"
   ]
  },
  {
   "cell_type": "markdown",
   "metadata": {},
   "source": [
    "### Interesting practical notes\n",
    "\n",
    "We trained the point net with a sparse amount of points (2500) when we test the Point Net with the same sparse number of points, we get mediocre results. However, when we increase the number of point to say 10000, the results are much better. We are sending richer information to the point net, and the Point Net is able to adapt and seemingly make better use of the increased density of the Point Cloud.\n",
    "\n",
    "When using unaugmented training data, the Point Net was very prone to overfitting. When we added Gaussian Noise to each (x,y,z) Point Cloud location in the training data the Point Net had significant improvements to the out of sample accuracy."
   ]
  },
  {
   "cell_type": "markdown",
   "metadata": {},
   "source": [
    "### Future Additions\n",
    "- Use T-SNE to visualize the learned local and global features\n",
    "- Add Matthews Correlation Coefficent to the evaluation metrics\n",
    "- Check which classes have the best performance\n",
    "- Modify the network to output the feature transformation matrix. This matrix is used in a regularization term in the softmax which should help with the optimization."
   ]
  },
  {
   "cell_type": "markdown",
   "metadata": {},
   "source": [
    "Get feature representation\n",
    "See: https://discuss.pytorch.org/t/how-can-l-load-my-best-model-as-a-feature-extractor-evaluator/17254/5"
   ]
  },
  {
   "cell_type": "code",
   "execution_count": 126,
   "metadata": {},
   "outputs": [],
   "source": [
    "activation = {}\n",
    "def get_activation(name):\n",
    "    def hook(model, input, output):\n",
    "        # print(len(output))\n",
    "        activation[name] = output[0].detach()\n",
    "    return hook\n",
    "\n",
    "\n",
    "classifier.backbone.register_forward_hook(get_activation('backbone'))\n",
    "preds, _ = classifier(points)"
   ]
  },
  {
   "cell_type": "code",
   "execution_count": null,
   "metadata": {},
   "outputs": [],
   "source": [
    "classifier.backbone."
   ]
  },
  {
   "cell_type": "code",
   "execution_count": 131,
   "metadata": {},
   "outputs": [
    {
     "data": {
      "text/plain": [
       "array([[4.206028 , 3.9895632, 7.4927025, ..., 1.8886206, 2.0461302,\n",
       "        5.428504 ]], dtype=float32)"
      ]
     },
     "execution_count": 131,
     "metadata": {},
     "output_type": "execute_result"
    }
   ],
   "source": [
    "activation['backbone'].cpu().numpy()"
   ]
  },
  {
   "cell_type": "code",
   "execution_count": 133,
   "metadata": {},
   "outputs": [
    {
     "data": {
      "text/plain": [
       "[<matplotlib.lines.Line2D at 0x19305c32be0>]"
      ]
     },
     "execution_count": 133,
     "metadata": {},
     "output_type": "execute_result"
    },
    {
     "data": {
      "image/png": "[encoded data removed]",
      "text/plain": [
       "<Figure size 640x480 with 1 Axes>"
      ]
     },
     "metadata": {},
     "output_type": "display_data"
    }
   ],
   "source": [
    "plt.plot(activation['backbone'].squeeze().cpu().numpy())"
   ]
  },
  {
   "cell_type": "code",
   "execution_count": 138,
   "metadata": {},
   "outputs": [
    {
     "data": {
      "text/plain": [
       "tensor([[ 4.2060,  3.9896,  7.4927,  ...,  4.7532,  6.9681, -0.9929],\n",
       "        [ 7.8567, -0.6947,  0.8521,  ...,  0.7680,  2.7972,  2.5237],\n",
       "        [ 3.3705,  3.1288,  3.3620,  ..., -0.7875, 10.2352, 10.7578],\n",
       "        [ 0.5538,  0.0300,  1.6776,  ...,  1.8886,  2.0461,  5.4285]],\n",
       "       device='cuda:0')"
      ]
     },
     "execution_count": 138,
     "metadata": {},
     "output_type": "execute_result"
    }
   ],
   "source": [
    "activation['backbone'].view(4, -1)"
   ]
  },
  {
   "cell_type": "code",
   "execution_count": null,
   "metadata": {},
   "outputs": [],
   "source": []
  }
 ],
 "metadata": {
  "kernelspec": {
   "display_name": "Python 3 (ipykernel)",
   "language": "python",
   "name": "python3"
  },
  "language_info": {
   "codemirror_mode": {
    "name": "ipython",
    "version": 3
   },
   "file_extension": ".py",
   "mimetype": "text/x-python",
   "name": "python",
   "nbconvert_exporter": "python",
   "pygments_lexer": "ipython3",
   "version": "3.8.12"
  },
  "vscode": {
   "interpreter": {
    "hash": "6c3515861ec4313dacaa20b0eec5bf326e6557b6589b7b6a4fe3c8baa566747d"
   }
  },
  "widgets": {
   "state": {},
   "version": "1.1.2"
  }
 },
 "nbformat": 4,
 "nbformat_minor": 2
}
